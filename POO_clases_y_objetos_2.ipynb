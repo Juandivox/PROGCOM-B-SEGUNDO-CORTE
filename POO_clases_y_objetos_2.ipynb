{
  "nbformat": 4,
  "nbformat_minor": 0,
  "metadata": {
    "colab": {
      "provenance": [],
      "collapsed_sections": []
    },
    "kernelspec": {
      "name": "python3",
      "display_name": "Python 3"
    },
    "language_info": {
      "name": "python"
    }
  },
  "cells": [
    {
      "cell_type": "markdown",
      "source": [
        "#POO: orientada a objetos (oop)\n",
        "\n",
        "class(nombre de la clase):\n",
        "  "
      ],
      "metadata": {
        "id": "YYJ-IknhctK2"
      }
    },
    {
      "cell_type": "code",
      "source": [
        "class Empleado: #CLASE\n",
        "#__init__ funcion constructor\n",
        "  def __init__(self, nombre, edad, ID, salario) -> None:\n",
        "    self.nombre=nombre\n",
        "    self.edad=edad\n",
        "    self.ID=ID\n",
        "    self.salario=salario\n",
        "\n",
        "  def __repr__(self) -> str:\n",
        "    return f\"nombre:{self.nombre}, edad:{self.edad},ID: {self.ID}, salario: {self.salario}\""
      ],
      "metadata": {
        "id": "gs3nGXqJc051"
      },
      "execution_count": null,
      "outputs": []
    },
    {
      "cell_type": "code",
      "source": [
        "sonia=Empleado(\"maria\",27,\"NOSE\",1200000)"
      ],
      "metadata": {
        "id": "lLLDvYA7dW02"
      },
      "execution_count": null,
      "outputs": []
    },
    {
      "cell_type": "code",
      "source": [
        "print(sonia)"
      ],
      "metadata": {
        "colab": {
          "base_uri": "https://localhost:8080/"
        },
        "id": "96My72E0jqcO",
        "outputId": "bd8008d2-db9d-4784-fa8d-056e83f6b8d6"
      },
      "execution_count": null,
      "outputs": [
        {
          "output_type": "stream",
          "name": "stdout",
          "text": [
            "nombre:maria, edad:27,ID: NOSE, salario: 1200000\n"
          ]
        }
      ]
    },
    {
      "cell_type": "code",
      "source": [
        "type(sonia)"
      ],
      "metadata": {
        "colab": {
          "base_uri": "https://localhost:8080/"
        },
        "id": "mhZLAOjBdbDV",
        "outputId": "d15614c1-8907-43e2-c38f-191617479e4f"
      },
      "execution_count": null,
      "outputs": [
        {
          "output_type": "execute_result",
          "data": {
            "text/plain": [
              "__main__.Empleado"
            ]
          },
          "metadata": {},
          "execution_count": 4
        }
      ]
    },
    {
      "cell_type": "code",
      "source": [
        "sonia.salario=1300000"
      ],
      "metadata": {
        "id": "i_5rcrHyexUk"
      },
      "execution_count": null,
      "outputs": []
    },
    {
      "cell_type": "code",
      "source": [
        "sonia.ID=\"u001585\""
      ],
      "metadata": {
        "id": "cw2AUzFvfkzg"
      },
      "execution_count": null,
      "outputs": []
    },
    {
      "cell_type": "code",
      "source": [
        "sonia.salario"
      ],
      "metadata": {
        "colab": {
          "base_uri": "https://localhost:8080/"
        },
        "id": "VDe48rotfRUB",
        "outputId": "ed368abd-af14-4f14-9641-ffa4112db4ee"
      },
      "execution_count": null,
      "outputs": [
        {
          "output_type": "execute_result",
          "data": {
            "text/plain": [
              "1300000"
            ]
          },
          "metadata": {},
          "execution_count": 7
        }
      ]
    },
    {
      "cell_type": "code",
      "source": [
        "sonia.ID"
      ],
      "metadata": {
        "colab": {
          "base_uri": "https://localhost:8080/",
          "height": 36
        },
        "id": "FVN2DErGfvqe",
        "outputId": "f6c0783e-a3b7-496b-c7bc-30b0b5412160"
      },
      "execution_count": null,
      "outputs": [
        {
          "output_type": "execute_result",
          "data": {
            "text/plain": [
              "'u001585'"
            ],
            "application/vnd.google.colaboratory.intrinsic+json": {
              "type": "string"
            }
          },
          "metadata": {},
          "execution_count": 8
        }
      ]
    },
    {
      "cell_type": "code",
      "source": [
        "sonia.__dict__#para ver los atributos de constructor"
      ],
      "metadata": {
        "colab": {
          "base_uri": "https://localhost:8080/"
        },
        "id": "sPVBWHiCfwv-",
        "outputId": "b02ac9ec-68df-4141-af87-92c6c4b633fb"
      },
      "execution_count": null,
      "outputs": [
        {
          "output_type": "execute_result",
          "data": {
            "text/plain": [
              "{'nombre': 'maria', 'edad': 27, 'ID': 'u001585', 'salario': 1300000}"
            ]
          },
          "metadata": {},
          "execution_count": 9
        }
      ]
    },
    {
      "cell_type": "code",
      "source": [
        "if sonia.salario<1000000:\n",
        "  sonia,salario=1.2*sonia.salario\n",
        "  print(\"joven aqui tiene su ayuda\")\n",
        "else:\n",
        "  print(\"Los asalariados tienen el control de los medios de produccion\")"
      ],
      "metadata": {
        "colab": {
          "base_uri": "https://localhost:8080/"
        },
        "id": "4u2KbvpjgFQf",
        "outputId": "bbe27836-b69e-42b2-c609-d5d012f3a586"
      },
      "execution_count": null,
      "outputs": [
        {
          "output_type": "stream",
          "name": "stdout",
          "text": [
            "Los asalariados tienen el control de los medios de produccion\n"
          ]
        }
      ]
    },
    {
      "cell_type": "code",
      "source": [
        "class Tienda:\n",
        "  def __init__(self,producto,precio,unidad):\n",
        "    self.producto=producto\n",
        "    self.precio=precio\n",
        "    self.unidad=unidad\n",
        "\n",
        "  def calculo(self):\n",
        "    total=self.unidad*self.precio\n",
        "    return total"
      ],
      "metadata": {
        "id": "qHBpXRVngQGl"
      },
      "execution_count": null,
      "outputs": []
    },
    {
      "cell_type": "code",
      "source": [
        "producto1=Tienda(\"Banano\",500,3)"
      ],
      "metadata": {
        "id": "NbeqA8AriOqN"
      },
      "execution_count": null,
      "outputs": []
    },
    {
      "cell_type": "code",
      "source": [
        "producto1.calculo()"
      ],
      "metadata": {
        "colab": {
          "base_uri": "https://localhost:8080/"
        },
        "id": "o5RQTeRViavq",
        "outputId": "5d74d0b6-8055-4ade-ea46-e9ae105c5dd2"
      },
      "execution_count": null,
      "outputs": [
        {
          "output_type": "execute_result",
          "data": {
            "text/plain": [
              "1500"
            ]
          },
          "metadata": {},
          "execution_count": 13
        }
      ]
    },
    {
      "cell_type": "code",
      "source": [
        "empleado2=Empleado(\"juan\",17,\"u00156874\",10000000)"
      ],
      "metadata": {
        "id": "2-wMXLngjCGe"
      },
      "execution_count": null,
      "outputs": []
    },
    {
      "cell_type": "code",
      "source": [
        "if empleado2.salario>sonia.salario:\n",
        "  print(f\"{empleado2.nombre} gana mas que {sonia.nombre}\")\n",
        "elif empleado2.salario<sonia.salario:\n",
        "  print(f\"{empleado2.nombre} gana lo mismo {sonia.salario}\")\n",
        "else:\n",
        "  print(f\"{empleado2.nombre} gana menos que {sonia.salario}\")\n",
        " "
      ],
      "metadata": {
        "colab": {
          "base_uri": "https://localhost:8080/"
        },
        "id": "J6tLzUi3kbeS",
        "outputId": "b1628119-f5ae-4da2-ad1c-75931532a57c"
      },
      "execution_count": null,
      "outputs": [
        {
          "output_type": "stream",
          "name": "stdout",
          "text": [
            "juan gana mas que maria\n"
          ]
        }
      ]
    },
    {
      "cell_type": "code",
      "source": [
        "from IPython.core.completer import back_unicode_name_matches\n",
        "class Fraccion:\n",
        "  #atributo de clase\n",
        "  num=0\n",
        "  den=1\n",
        "  exponente= 1\n",
        "  def __init__(self,num=0,den=1,z=0,exponente=1):\n",
        "    self.num=num\n",
        "    self.den=den\n",
        "\n",
        "  def maximo_comun_divisor(self, a, b):\n",
        "    z = 0\n",
        "    while b != 0:\n",
        "        z = b\n",
        "        b = a % b\n",
        "        a = z\n",
        "    return a\n",
        "\n",
        "  def minimo_comun_multiplo(self, a, b):\n",
        "    return (a * b) / self.maximo_comun_divisor(a, b)\n",
        "\n",
        "  #operaciones\n",
        "\n",
        "  def multiplica(self,b):\n",
        "    num=self.num*b.num\n",
        "    den=self.den*b.den\n",
        "    r=Fraccion(num,den)\n",
        "    return r\n",
        "\n",
        "  def suma(self, b):\n",
        "    mcm = self.minimo_comun_multiplo(self.num, self.den)\n",
        "    diferencia_self = mcm/self.num\n",
        "    diferencia_otra = mcm/self.den\n",
        "    numerador_resultado = (diferencia_self*self.num) + \\\n",
        "    (diferencia_otra*self.den)\n",
        "    return Fraccion(numerador_resultado, mcm)\n",
        "\n",
        "  def resta(self, b):\n",
        "    mcm = self.minimo_comun_multiplo(self.num, self.den)\n",
        "    diferencia_self = mcm/self.num\n",
        "    diferencia_otra = mcm/delf.den\n",
        "    numerador_resultado = (diferencia_self*self.num) - \\\n",
        "        (diferencia_otra*den)\n",
        "    return Fraccion(numerador_resultado, mcm)\n",
        "    \n",
        "  def potencia(self, b , exponente:\n",
        "    exponente= input(print(\"coloca el exponente\"))\n",
        "    return Fraccion(self.num ** exponente, self.den ** exponente)\n",
        "\n",
        "\n",
        "  def imprimir(self):\n",
        "    print(self.num,\"/\",self.den)\n"
      ],
      "metadata": {
        "id": "MdCviXZLlbRP"
      },
      "execution_count": null,
      "outputs": []
    },
    {
      "cell_type": "code",
      "source": [
        "a=Fraccion(4,5)\n",
        "a.imprimir()"
      ],
      "metadata": {
        "colab": {
          "base_uri": "https://localhost:8080/"
        },
        "id": "sddrSBDYmAr_",
        "outputId": "deda853e-ee82-4dac-af3b-b2204f7c40e3"
      },
      "execution_count": null,
      "outputs": [
        {
          "output_type": "stream",
          "name": "stdout",
          "text": [
            "4 / 5\n"
          ]
        }
      ]
    },
    {
      "cell_type": "code",
      "source": [
        "c=Fraccion(7,4)\n",
        "c.imprimir()"
      ],
      "metadata": {
        "id": "qAFpcnBDnIpd",
        "colab": {
          "base_uri": "https://localhost:8080/"
        },
        "outputId": "73d26642-fd38-4fd9-95fc-2fa40ea942b5"
      },
      "execution_count": null,
      "outputs": [
        {
          "output_type": "stream",
          "name": "stdout",
          "text": [
            "7 / 4\n"
          ]
        }
      ]
    },
    {
      "cell_type": "code",
      "source": [
        "r=a.multiplica(c)\n",
        "r.imprimir()"
      ],
      "metadata": {
        "colab": {
          "base_uri": "https://localhost:8080/"
        },
        "id": "yQPx1AWJoDGs",
        "outputId": "50a76e2f-9491-4b52-d31b-b58b75ceb8b2"
      },
      "execution_count": null,
      "outputs": [
        {
          "output_type": "stream",
          "name": "stdout",
          "text": [
            "28 / 20\n"
          ]
        }
      ]
    },
    {
      "cell_type": "code",
      "source": [
        "r=a.potencia(c)\n",
        "r.imprimir()"
      ],
      "metadata": {
        "id": "IWc4QextB45S"
      },
      "execution_count": null,
      "outputs": []
    },
    {
      "cell_type": "code",
      "source": [
        "\n",
        "#calculadora de fracciones\n",
        "\n",
        "class Fraccion:\n",
        "  def __init__(self,num,den,pot):\n",
        "    self.num=num\n",
        "    self.den=den\n",
        "    self.pot=pot\n",
        "\n",
        "  def potencia(self):\n",
        "    if self.pot==0:\n",
        "      num=1\n",
        "      den=1\n",
        "    elif self.pot<0:\n",
        "      self.num,self.den=self.den,self.num\n",
        "      self.pot=self.pot*-1\n",
        "      num=self.num**self.pot\n",
        "      den=self.den**self.pot\n",
        "    else:\n",
        "      num=self.num**self.pot\n",
        "      den=self.den**self.pot\n",
        "      pot=self.pot\n",
        "    c=fraccion(num,den,pot)\n",
        "    print(f\"{c.num}/{c.den}\")\n",
        "    return c\n",
        "\n",
        "  def suma(self,s):\n",
        "    if self.den==0 or s.den==0:\n",
        "      print(\"No se puede hacer divicion entre 0\")\n",
        "    else:\n",
        "      if self.den!=s.den:\n",
        "        num=(self.num*s.den)+(self.den*s.num)\n",
        "        den=self.den*s.den\n",
        "      else:\n",
        "        num=(self.num*s.den)+(self.den*s.num)\n",
        "        den=self.den*s.den\n",
        "      f=Fraccion(num,dev,1)\n",
        "      print(f\"{f.num}/{f.den}\")\n",
        "      return f\n",
        "\n",
        "  def resta(self,s):\n",
        "    if self.den==0 or s.den==0:\n",
        "      print(\"No se puede hacer divicion entre 0\")\n",
        "    else:\n",
        "      if self.den!=s.den:\n",
        "        num=(self.num*s.den)+(self.den*s.num)\n",
        "        den=self.den*s.den\n",
        "      else:\n",
        "        num=(self.num*s.den)+(self.den*s.num)\n",
        "        den=self.den*s.den\n",
        "      f=Fraccion(num,dev,1)\n",
        "      print(f\"{f.num}/{f.den}\")\n",
        "      return f\n",
        "\n",
        "  def producto(self,s):\n",
        "      num=self.num*s.num\n",
        "      den=self.den*s.den\n",
        "      fr=Fraccion(num,den,1)\n",
        "      return f\"{fr.num}/{fr.den}\"\n",
        "\n",
        "  def div(self,c):\n",
        "    num=self.num*c.den\n",
        "    den=senf.den*c.num\n",
        "\n",
        "   \n",
        "\n",
        "  def imprimir(self):\n",
        "    print(f\"{self.num} / {self.den}\")\n"
      ],
      "metadata": {
        "id": "xbMPk0mjk8QB"
      },
      "execution_count": 12,
      "outputs": []
    },
    {
      "cell_type": "code",
      "source": [
        "s=Fraccion(3,5,8)\n",
        "s.potencia()"
      ],
      "metadata": {
        "colab": {
          "base_uri": "https://localhost:8080/"
        },
        "id": "fLRs458VmB_h",
        "outputId": "64921a37-5957-44e6-b069-02c8d82fdabb"
      },
      "execution_count": 7,
      "outputs": [
        {
          "output_type": "stream",
          "name": "stdout",
          "text": [
            "(<__main__.Fraccion object at 0x7f731c67ca90>, 6561) / (<__main__.Fraccion object at 0x7f731c67ca90>, 390625)\n"
          ]
        },
        {
          "output_type": "execute_result",
          "data": {
            "text/plain": [
              "<__main__.Fraccion at 0x7f731c67ca90>"
            ]
          },
          "metadata": {},
          "execution_count": 7
        }
      ]
    },
    {
      "cell_type": "code",
      "source": [
        "t=Fraccion(3,5,1)\n",
        "z=Fraccion(6,8,1)\n",
        "t.producto(z)"
      ],
      "metadata": {
        "colab": {
          "base_uri": "https://localhost:8080/",
          "height": 35
        },
        "id": "8PuCt2t1tacd",
        "outputId": "159482b3-7429-42df-be55-1db1828e8df3"
      },
      "execution_count": 13,
      "outputs": [
        {
          "output_type": "execute_result",
          "data": {
            "text/plain": [
              "'18/40'"
            ],
            "application/vnd.google.colaboratory.intrinsic+json": {
              "type": "string"
            }
          },
          "metadata": {},
          "execution_count": 13
        }
      ]
    }
  ]
}