{
  "nbformat": 4,
  "nbformat_minor": 0,
  "metadata": {
    "colab": {
      "provenance": []
    },
    "kernelspec": {
      "name": "python3",
      "display_name": "Python 3"
    },
    "language_info": {
      "name": "python"
    }
  },
  "cells": [
    {
      "cell_type": "code",
      "execution_count": 6,
      "metadata": {
        "colab": {
          "base_uri": "https://localhost:8080/"
        },
        "id": "ipCSbdCffUOI",
        "outputId": "c9395cf4-e980-4d8f-b5b1-50672013fe05"
      },
      "outputs": [
        {
          "output_type": "stream",
          "name": "stdout",
          "text": [
            "[1, 2, 3, 4]\n"
          ]
        }
      ],
      "source": [
        "\n",
        "Numeros=[n for n in range(1,6)]\n",
        "factor=1\n",
        " if n>1:\n",
        "   factor*=n\n",
        "   n-=1"
      ]
    },
    {
      "cell_type": "code",
      "source": [
        "import random\n",
        "numeros1 = [random.sample(range(100), 100)]\n",
        "numeros2 = [random.sample(range(100), 100)]\n",
        "comun = []\n",
        "for a in numeros1:\n",
        "    for b in numeros2:\n",
        "        if a == b:\n",
        "            comun.append(a)\n",
        "print(comun)"
      ],
      "metadata": {
        "colab": {
          "base_uri": "https://localhost:8080/"
        },
        "id": "W4mFJ7VQmAA9",
        "outputId": "f3927c34-d7b8-41fa-d7f0-5f0db4d62707"
      },
      "execution_count": 82,
      "outputs": [
        {
          "output_type": "stream",
          "name": "stdout",
          "text": [
            "[]\n"
          ]
        }
      ]
    },
    {
      "cell_type": "code",
      "source": [
        "import random\n",
        "numeros1 = [1,2,3,4,5,]\n",
        "numeros2 = [2,3,4]\n",
        "comun = []\n",
        "for a in numeros1:\n",
        "    for b in numeros2:\n",
        "        if a == b:\n",
        "            comun.append(a)\n",
        "print(comun)"
      ],
      "metadata": {
        "colab": {
          "base_uri": "https://localhost:8080/"
        },
        "id": "WkpFcd_VoaQr",
        "outputId": "65311aaa-e636-4692-96ce-6cce9ba9f189"
      },
      "execution_count": 67,
      "outputs": [
        {
          "output_type": "stream",
          "name": "stdout",
          "text": [
            "[2, 3, 4]\n"
          ]
        }
      ]
    },
    {
      "cell_type": "code",
      "source": [
        "numeros1 = [random.randint(0, 2000) for x in range(100)]\n",
        "numeros2 = [random.randint(0, 2000) for x in range(100)]\n",
        "comun = []\n",
        "for a in numeros1:\n",
        "    for b in numeros2:\n",
        "        if a == b:\n",
        "            comun.append(a)\n",
        "print(comun)"
      ],
      "metadata": {
        "colab": {
          "base_uri": "https://localhost:8080/"
        },
        "id": "YhZ--WzTxIO4",
        "outputId": "a9c737da-bbfa-4342-b8f0-f04bca8428e1"
      },
      "execution_count": 99,
      "outputs": [
        {
          "output_type": "stream",
          "name": "stdout",
          "text": [
            "[1327, 1647, 359, 570, 570, 1719]\n"
          ]
        }
      ]
    }
  ]
}