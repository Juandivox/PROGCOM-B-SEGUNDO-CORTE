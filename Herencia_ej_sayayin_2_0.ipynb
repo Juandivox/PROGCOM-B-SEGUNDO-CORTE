{
  "nbformat": 4,
  "nbformat_minor": 0,
  "metadata": {
    "colab": {
      "provenance": [],
      "collapsed_sections": []
    },
    "kernelspec": {
      "name": "python3",
      "display_name": "Python 3"
    },
    "language_info": {
      "name": "python"
    }
  },
  "cells": [
    {
      "cell_type": "code",
      "execution_count": null,
      "metadata": {
        "id": "Ahx4s0k-haez"
      },
      "outputs": [],
      "source": [
        "class Humano:\n",
        "  def __init__(self,nombre,ki,color_piel,cabello,altura,color_ojos,brazos,piernas,sexo,peso,IQ,RH,belleza):\n",
        "    self.nombre=nombre\n",
        "    self.ki=ki\n",
        "    self.color_piel=color_piel\n",
        "    self.cabello=cabello\n",
        "    self.altura=altura\n",
        "    self.color_ojos=color_ojos\n",
        "    self.brazos=brazos\n",
        "    self.piernas=piernas\n",
        "    self.peso=peso\n",
        "    self.sexo=sexo\n",
        "    self.IQ=IQ\n",
        "    self.RH=RH\n",
        "    self.belleza=belleza\n",
        "\n",
        "  def movilizarse(self,vel):\n",
        "    if vel==0:\n",
        "      return f\"{self.nombre} esta en estado de reposo\"\n",
        "    elif vel<1:\n",
        "      return f\"{self.nombre} esta gateando\"\n",
        "    elif vel<4:\n",
        "      return f\"{self.nombre} esta caminando descalso\"\n",
        "    elif vel<8:\n",
        "      return f\"{self.nombre} esta caminando\"\n",
        "    elif vel<10:\n",
        "      return f\"{self.nombre} esta corriendo descalso\"\n",
        "    elif vel<13:\n",
        "      return f\"{self.nombre} esta corriendo\"\n",
        "    elif vel<100:\n",
        "      return f\"{self.nombre} esta volando velocidad crusero\"\n",
        "    elif vel<12000:\n",
        "      return f\"{self.nombre} esta volando velocidades muy altas\"\n",
        "\n",
        "  def trabajo(self,trav):\n",
        "    if trav==0:\n",
        "      return f\"{self.nombre} trapito\"\n",
        "    elif trav==1:\n",
        "      return f\"{self.nombre} indijente\"\n",
        "    elif trav==2:\n",
        "      return f\"{self.nombre} mototaxista\"\n",
        "    elif trav==3:\n",
        "      return f\"{self.nombre} inversor en bitcoin (pierde todo)\"\n",
        "    elif trav==4:\n",
        "      return f\"{self.nombre} inversor en goarbit\"\n",
        "    elif trav==5:\n",
        "      return f\"{self.nombre} gota a gota\"\n",
        "    elif trav==6:\n",
        "      return f\"{self.nombre} desempleado\"\n",
        "    \n",
        "  def nivel_hambre(self,comida):\n",
        "     if comida==0:\n",
        "       return f\"{self.nombre} no ha comido, esta hambriento\"  \n",
        "     elif comida==1:\n",
        "       return f\"{self.nombre} comio pero quedo con hambre v:\" \n",
        "     elif comida==2:\n",
        "       return f\"{self.nombre} esta satisfecho con su comida\"  \n",
        "     elif comida==3:\n",
        "       return f\"{self.nombre} esta completamente lleno\"  \n",
        "     elif comida==4:\n",
        "       return f\"{self.nombre} comio tanto que no su cuerpo no pudo más, que descanse en paz 🕊️\" \n",
        "     else:\n",
        "      return f\"Mi rey, elige otro número v:\"     \n",
        "\n",
        "  def salir(self,salir):\n",
        "    if salir==0:\n",
        "      return f\"{self.nombre} se quedo en casa jugando al SEX WITH HITLER (un exelente juego)\" \n",
        "    elif salir==1:\n",
        "      return f\"{self.nombre} fue por un café\"\n",
        "    elif salir==2:\n",
        "      return f\"{self.nombre} se fue por una cariñosa (ahora tiene sida)\" \n",
        "    elif salir==3:\n",
        "      return f\"{self.nombre} se fue de rumba hasta las 6 am (amanecio en saravena como guerrillero)\"  \n",
        "    elif salir==4:\n",
        "      return f\"{self.nombre} Se fue de excursión a la avenida de sumapaz\"   \n",
        "    elif salir==5:\n",
        "      return f\"{self.nombre} Lo estan D3c@P1T@ndo ayuda!!!!\" \n",
        "    else:\n",
        "      return f\"Mi rey, elige otro número v:\"   \n",
        "\n",
        "  def estudiar(self,estudiar):\n",
        "    if estudiar==0:\n",
        "      return f\"{self.nombre} es un vago y no estudio\"     \n",
        "    elif estudiar==1:\n",
        "      return f\"{self.nombre} estudio media hora\" \n",
        "    elif estudiar==2:\n",
        "      return f\"{self.nombre} termino sus trabajos y estudio para el examen\"\n",
        "    elif estudiar==3:\n",
        "      return f\"{self.nombre} repaso para el examen hasta las 5 de la mañana (el profesor no fue)\" \n",
        "    elif estudiar==4:\n",
        "      return f\"{self.nombre} estudio tanto que su mente entro en otro plano existencial\"  \n",
        "    elif estudiar==5:\n",
        "      return f\"{self.nombre} estudio tanto que ahora la NASA le pide clases\" \n",
        "    else:\n",
        "      return f\"AAAAHAAAA!!!!!!!!!\"   \n",
        "\n",
        "  def comprar(self,comprar):\n",
        "    if comprar==0:\n",
        "      return f\"{self.nombre} Se compro un televisor y el no tiene una nevera\" \n",
        "    elif comprar==1:\n",
        "      return f\"{self.nombre} salio a hacer compras\" \n",
        "    elif comprar==2:\n",
        "      return f\"{self.nombre} acaba de llegar de comprar una prado\" \n",
        "    elif comprar==3:\n",
        "      return f\"{self.nombre} tiene lleno el refrigerador de cadaveres en descomposicion\" \n",
        "    elif comprar==4:\n",
        "      return f\"{self.nombre} lo busca la interpol por canivalismo\" \n",
        "    elif comprar==5:\n",
        "      return f\"{self.nombre} tiene una empresa de comida humana\"             \n",
        "    else:\n",
        "      return f\"No existe pendejo\" \n",
        "\n",
        "  def clase_socia(self,social):\n",
        "    if social==0:\n",
        "      return f\"{self.nombre} Es muy pobre\" \n",
        "    elif social==1:\n",
        "      return f\"{self.nombre} Clase media\" \n",
        "    elif social==2:\n",
        "      return f\"{self.nombre} Clase alta\" \n",
        "    elif social==3:\n",
        "      return f\"{self.nombre} Clase muy alta\" \n",
        "    elif social==4:\n",
        "      return f\"{self.nombre} Estrato 7\" \n",
        "    elif social==5:\n",
        "      return f\"{self.nombre} Es un viajero de otras dimenciones\"             \n",
        "    else:\n",
        "      return f\"No existe pendejo\" \n"
      ]
    },
    {
      "cell_type": "code",
      "source": [
        "h=Humano(\"juan david ramirez\",0,\"blanquito\",\"si, castaño\",1.69,\"marrones\",2,2,50,\"sexo masculino,o sexo? porque eso no\",15,\"0+\",5)"
      ],
      "metadata": {
        "id": "bResn-gToKIG"
      },
      "execution_count": null,
      "outputs": []
    },
    {
      "cell_type": "code",
      "source": [
        "h.movilizarse(4)"
      ],
      "metadata": {
        "colab": {
          "base_uri": "https://localhost:8080/",
          "height": 36
        },
        "id": "ESLVibv5hnav",
        "outputId": "3a8b828f-0c7b-4601-c043-ed5d18dbbca8"
      },
      "execution_count": null,
      "outputs": [
        {
          "output_type": "execute_result",
          "data": {
            "text/plain": [
              "'juan david ramirez esta caminando'"
            ],
            "application/vnd.google.colaboratory.intrinsic+json": {
              "type": "string"
            }
          },
          "metadata": {},
          "execution_count": 3
        }
      ]
    },
    {
      "cell_type": "code",
      "source": [
        "h.trabajo(3)"
      ],
      "metadata": {
        "colab": {
          "base_uri": "https://localhost:8080/",
          "height": 36
        },
        "id": "heX4ZNwlrr2j",
        "outputId": "f943bd0b-7104-4eaf-b57b-a9c527b6de8e"
      },
      "execution_count": null,
      "outputs": [
        {
          "output_type": "execute_result",
          "data": {
            "text/plain": [
              "'juan david ramirez inversor en bitcoin (pierde todo)'"
            ],
            "application/vnd.google.colaboratory.intrinsic+json": {
              "type": "string"
            }
          },
          "metadata": {},
          "execution_count": 4
        }
      ]
    },
    {
      "cell_type": "code",
      "source": [
        "class Sayayin:\n",
        "  def __init__(self,nombre,estatura,colamono=True,cabello=\"Negro\",ojos=\"Negro\"):\n",
        "    self.nombre=nombre\n",
        "    self.colamono=colamono\n",
        "    self.cabello=cabello\n",
        "    self.ojos=ojos\n",
        "    self.estatura=estatura\n",
        "    self.colamono=True\n",
        "\n",
        "  def cambio_color(self,ira):\n",
        "    if ira>=4000 and ira<10000:\n",
        "      self.color_cabello=\"rubio\"\n",
        "      self.color_ojos=\"aguamrina\"\n",
        "    elif ira>=10000 and ira<100000:\n",
        "      self.color_cabello=\"azul\"\n",
        "      self.color_ojos=\"azul\"\n",
        "    elif ira>=400000 and ira<10000000:\n",
        "      self.color_cabello=\"marrones\"\n",
        "      self.color_ojos=\"marrones\"\n",
        "    elif ira>=4000000 and ira<100000000:\n",
        "      self.color_cabello=\"verde mierda\"\n",
        "      self.color_ojos=\"verde\"\n",
        "    elif ira>=40000000:\n",
        "      self.color_cabello=\"negro\"\n",
        "      self.color_ojos=\"negro\"\n",
        "\n",
        "  def movilizarse(self,vel):\n",
        "    if vel==0:\n",
        "      return f\"{self.nombre} esta en estado de reposo\"\n",
        "    elif vel<1:\n",
        "      return f\"{self.nombre} esta gateando\"\n",
        "    elif vel<4:\n",
        "      return f\"{self.nombre} esta caminando descalso\"\n",
        "    elif vel<8:\n",
        "      return f\"{self.nombre} esta caminando\"\n",
        "    elif vel<10:\n",
        "      return f\"{self.nombre} esta corriendo descalso\"\n",
        "    elif vel<13:\n",
        "      return f\"{self.nombre} esta corriendo\"\n",
        "    elif vel<100:\n",
        "      return f\"{self.nombre} esta volando velocidad crusero\"\n",
        "    elif vel<12000:\n",
        "      return f\"{self.nombre} esta volando velocidades muy altas\"\n",
        "\n",
        "  def trabajo(self,trav):\n",
        "    if trav==0:\n",
        "      return f\"{self.nombre} trapito\"\n",
        "    elif trav==1:\n",
        "      return f\"{self.nombre} indijente\"\n",
        "    elif trav==2:\n",
        "      return f\"{self.nombre} mototaxista\"\n",
        "    elif trav==3:\n",
        "      return f\"{self.nombre} inversor en bitcoin (pierde todo)\"\n",
        "    elif trav==4:\n",
        "      return f\"{self.nombre} inversor en goarbit\"\n",
        "    elif trav==5:\n",
        "      return f\"{self.nombre} gota a gota\"\n",
        "    elif trav==6:\n",
        "      return f\"{self.nombre} desempleado\"\n",
        "\n",
        "  def luna(self,luna):\n",
        "    if luna and self.colamono:\n",
        "      print(self.nombre,\"se va a transformar en mono gigante\")\n",
        "    elif luna and self.colamono==False:\n",
        "      print(self.nombre,\"no se va a transformar en mono gigante\")\n",
        "    else:\n",
        "      print(self.nombre,\"no se va a transformar en mono gigante\")\n",
        "\n",
        "  def nivel(self,nivel):\n",
        "    if nivel==0:\n",
        "      return f\"{self.nombre} es un guerrero de clase baja\"  \n",
        "    elif nivel==1:\n",
        "      return f\"{self.nombre} es un guerrero de clase media\" \n",
        "    elif nivel==2:\n",
        "      return f\"{self.nombre} es un guerrero de clase alta\" \n",
        "    elif nivel==3:\n",
        "      return f\"{self.nombre} es el EMPERADOR\" \n",
        "    elif nivel==4:\n",
        "      return f\"No puede ser...{self.nombre} es el guerrero interdimencional\"  "
      ],
      "metadata": {
        "id": "65AHddVHsNGr"
      },
      "execution_count": 32,
      "outputs": []
    },
    {
      "cell_type": "code",
      "source": [
        "class Hibridos(Sayayin,Humano):\n",
        "  def __init__(self,cabello,ojos,estatura,nombre):\n",
        "    super().__init__(nombre,estatura,colamono=False)\n",
        "    self.cabello=cabello\n",
        "    self.ojos=ojos\n",
        "\n",
        "  def poderes(self):\n",
        "    print(f\"{self.nombre} Puede transformarse en modo bestia\")"
      ],
      "metadata": {
        "id": "-uZWOd3wubwS"
      },
      "execution_count": 33,
      "outputs": []
    },
    {
      "cell_type": "code",
      "source": [
        "Gohan=Hibridos(\"Azul\",\"Rojo\",1.80,\"Gohan\")\n",
        "Gohan.__dict__"
      ],
      "metadata": {
        "id": "Rqc0nPvKvcCs",
        "colab": {
          "base_uri": "https://localhost:8080/"
        },
        "outputId": "cc36ecea-f0f5-4706-b2a7-fe31617e6cd2"
      },
      "execution_count": 34,
      "outputs": [
        {
          "output_type": "execute_result",
          "data": {
            "text/plain": [
              "{'nombre': 'Gohan',\n",
              " 'colamono': True,\n",
              " 'cabello': 'Azul',\n",
              " 'ojos': 'Rojo',\n",
              " 'estatura': 1.8}"
            ]
          },
          "metadata": {},
          "execution_count": 34
        }
      ]
    },
    {
      "cell_type": "code",
      "source": [
        "Gohan.salir(5)"
      ],
      "metadata": {
        "colab": {
          "base_uri": "https://localhost:8080/",
          "height": 36
        },
        "id": "Z4l3dXX6FavV",
        "outputId": "48c2b546-5c7c-4390-b82a-9de4bd75f81d"
      },
      "execution_count": null,
      "outputs": [
        {
          "output_type": "execute_result",
          "data": {
            "text/plain": [
              "'Gohan esta en Marte tomando café con Elon Musk'"
            ],
            "application/vnd.google.colaboratory.intrinsic+json": {
              "type": "string"
            }
          },
          "metadata": {},
          "execution_count": 18
        }
      ]
    },
    {
      "cell_type": "code",
      "source": [
        "Gohan.nivel(4)"
      ],
      "metadata": {
        "colab": {
          "base_uri": "https://localhost:8080/",
          "height": 36
        },
        "id": "QftuvBOVFbM8",
        "outputId": "13e9a4bf-72c9-4c39-b8a2-3c27a0e1f7c0"
      },
      "execution_count": null,
      "outputs": [
        {
          "output_type": "execute_result",
          "data": {
            "text/plain": [
              "'es imposible pero cierto,Gohan es el guerrero que tiene de hijo a Daishinkan '"
            ],
            "application/vnd.google.colaboratory.intrinsic+json": {
              "type": "string"
            }
          },
          "metadata": {},
          "execution_count": 19
        }
      ]
    },
    {
      "cell_type": "code",
      "source": [
        "Juan=Hibrido(\"juan\",0,\"blanquito\",\"si, castaño\",1.69,\"marrones\",2,2,50,\"sexo masculino,o sexo? porque eso no\",15,\"0+\",5,False)\n",
        "Juan.cambio_color(50000)\n",
        "Juan.__dict__"
      ],
      "metadata": {
        "colab": {
          "base_uri": "https://localhost:8080/"
        },
        "id": "VFmsNgBTb3NX",
        "outputId": "cfcd9d2f-f006-4c27-a558-1ab24533c95c"
      },
      "execution_count": null,
      "outputs": [
        {
          "output_type": "execute_result",
          "data": {
            "text/plain": [
              "{'nombre': 'juan',\n",
              " 'ki': 0,\n",
              " 'color_piel': 'blanquito',\n",
              " 'cabello': 'si, castaño',\n",
              " 'altura': 1.69,\n",
              " 'color_ojos': 'azul',\n",
              " 'brazos': 2,\n",
              " 'piernas': 2,\n",
              " 'peso': 'sexo masculino,o sexo? porque eso no',\n",
              " 'sexo': 50,\n",
              " 'IQ': 15,\n",
              " 'RH': '0+',\n",
              " 'belleza': 5,\n",
              " 'colamono': True,\n",
              " 'color_cabello': 'azul'}"
            ]
          },
          "metadata": {},
          "execution_count": 26
        }
      ]
    }
  ]
}