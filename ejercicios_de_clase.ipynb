{
  "nbformat": 4,
  "nbformat_minor": 0,
  "metadata": {
    "colab": {
      "provenance": []
    },
    "kernelspec": {
      "name": "python3",
      "display_name": "Python 3"
    },
    "language_info": {
      "name": "python"
    }
  },
  "cells": [
    {
      "cell_type": "code",
      "execution_count": 13,
      "metadata": {
        "colab": {
          "base_uri": "https://localhost:8080/"
        },
        "id": "SnPi5-lwhEni",
        "outputId": "f6432225-ece9-44f8-dcdf-9c368440476b"
      },
      "outputs": [
        {
          "output_type": "stream",
          "name": "stdout",
          "text": [
            "ingrese el valor de valor 1 35\n",
            "ingrese el valor de valor 2 12\n",
            "El valor 1 es mayor\n"
          ]
        }
      ],
      "source": [
        "##ejercicio 1\n",
        "valor1=input(\"ingrese el valor de valor 1 \")\n",
        "valor2=input(\"ingrese el valor de valor 2 \")\n",
        "def valores(valor1, valor2):\n",
        "  if valor1>valor2:\n",
        "    print(\"El valor 1 es mayor\")\n",
        "  else:\n",
        "    print(\"el valor 2 es mayor\")\n",
        "valores(valor1, valor2)"
      ]
    },
    {
      "cell_type": "code",
      "source": [
        "##ejercicio 2\n",
        "valor1=input(\"ingrese el valor del valor 1 \")\n",
        "valor2=input(\"ingrese el valor del valor 2 \")\n",
        "valor3=input(\"ingrese el valor del valor 3 \")\n",
        "def valores(valor1, valor2, valor3):\n",
        "  if valor1>valor2 and valor3:\n",
        "    print(\"El valor 1 es mayor\")\n",
        "  else:\n",
        "   if valor2>valor1 and valor3:\n",
        "    print(\"El valor 2 es mayor\")\n",
        "   else:\n",
        "      if valor3>valor1 and valor2:\n",
        "        print(\"El valor 3 es mayor\")\n",
        "\n",
        "valores(valor1, valor2, valor3)"
      ],
      "metadata": {
        "colab": {
          "base_uri": "https://localhost:8080/"
        },
        "id": "n0hoFL_Ojd8F",
        "outputId": "66cb50f9-67d0-403a-b9df-458adc9ffcc2"
      },
      "execution_count": 21,
      "outputs": [
        {
          "output_type": "stream",
          "name": "stdout",
          "text": [
            "ingrese el valor del valor 1 1000\n",
            "ingrese el valor del valor 2 2000\n",
            "ingrese el valor del valor 3 599\n",
            "El valor 2 es mayor\n"
          ]
        }
      ]
    },
    {
      "cell_type": "code",
      "source": [
        "##Ejercicio 3\n",
        "numeros=[3,4,5]\n",
        "n=0\n",
        "valor=0\n",
        "def suma(numeros,n,valor):\n",
        "  while n<len(numeros):\n",
        "    valor = (valor+numeros[n])\n",
        "    n=n+1\n",
        "  print(valor)\n",
        "suma(numeros,n,valor)"
      ],
      "metadata": {
        "colab": {
          "base_uri": "https://localhost:8080/"
        },
        "id": "RCY6qlS-lMLB",
        "outputId": "e2031e4a-c653-49d7-9b66-55e1e6855bd6"
      },
      "execution_count": 70,
      "outputs": [
        {
          "output_type": "stream",
          "name": "stdout",
          "text": [
            "12\n"
          ]
        }
      ]
    },
    {
      "cell_type": "code",
      "source": [
        "##Ejercicio 4\n",
        "numeros=[3,4,5,6]\n",
        "n=0\n",
        "valor=0\n",
        "def suma(numeros,n,valor):\n",
        "  while n<len(numeros):\n",
        "    valor = (valor+numeros[n])\n",
        "    n=n+1\n",
        "  print(valor)\n",
        "suma(numeros,n,valor)\n"
      ],
      "metadata": {
        "colab": {
          "base_uri": "https://localhost:8080/"
        },
        "id": "PogDtRxjjhFk",
        "outputId": "bfa05f96-59d6-4884-f146-03d7058b568b"
      },
      "execution_count": 69,
      "outputs": [
        {
          "output_type": "stream",
          "name": "stdout",
          "text": [
            "18\n"
          ]
        }
      ]
    },
    {
      "cell_type": "code",
      "source": [
        "##Ejercicio 5\n",
        "numeros=[8,5,3,1]\n",
        "n=0\n",
        "valor=0\n",
        "def suma(numeros,n,valor):\n",
        "  while n<len(numeros):\n",
        "    valor = (valor+numeros[n])\n",
        "    n=n+1\n",
        "  print(valor)\n",
        "suma(numeros,n,valor)"
      ],
      "metadata": {
        "colab": {
          "base_uri": "https://localhost:8080/"
        },
        "id": "Pz4vUvZilzIA",
        "outputId": "27b645f8-cd63-4bc4-b9b3-d05cb0cfb76e"
      },
      "execution_count": 71,
      "outputs": [
        {
          "output_type": "stream",
          "name": "stdout",
          "text": [
            "17\n"
          ]
        }
      ]
    },
    {
      "cell_type": "code",
      "source": [
        "##Ejercicio 6\n",
        "numeros=[0,4,5]\n",
        "n=1\n",
        "valor= numeros[0]\n",
        "def multiplicacion(numeros,n,valor):\n",
        "  while n<len(numeros):\n",
        "    valor = (valor*numeros[n])\n",
        "    n=n+1\n",
        "  print(valor)\n",
        "multiplicacion(numeros,n,valor)"
      ],
      "metadata": {
        "colab": {
          "base_uri": "https://localhost:8080/"
        },
        "id": "HIWKuPW7l_-_",
        "outputId": "c69fede9-2b1a-421d-88cd-6133d21717d7"
      },
      "execution_count": 78,
      "outputs": [
        {
          "output_type": "stream",
          "name": "stdout",
          "text": [
            "0\n"
          ]
        }
      ]
    },
    {
      "cell_type": "code",
      "source": [
        "##Ejercicio 7\n",
        "numeros=[3,4,5,1]\n",
        "n=1\n",
        "valor= numeros[0]\n",
        "def multiplicacion(numeros,n,valor):\n",
        "  while n<len(numeros):\n",
        "    valor = (valor*numeros[n])\n",
        "    n=n+1\n",
        "  print(valor)\n",
        "multiplicacion(numeros,n,valor)"
      ],
      "metadata": {
        "colab": {
          "base_uri": "https://localhost:8080/"
        },
        "id": "nWuF_Nd3uFUB",
        "outputId": "91cfb237-499f-401e-f295-ed18ca06853f"
      },
      "execution_count": 75,
      "outputs": [
        {
          "output_type": "stream",
          "name": "stdout",
          "text": [
            "60\n"
          ]
        }
      ]
    },
    {
      "cell_type": "code",
      "source": [
        "##Ejercicio 8\n",
        "numeros=[1,2,3,-1]\n",
        "n=1\n",
        "valor= numeros[0]\n",
        "def multiplicacion(numeros,n,valor):\n",
        "  while n<len(numeros):\n",
        "    valor = (valor*numeros[n])\n",
        "    n=n+1\n",
        "  print(valor)\n",
        "multiplicacion(numeros,n,valor)"
      ],
      "metadata": {
        "colab": {
          "base_uri": "https://localhost:8080/"
        },
        "id": "WVqRAG8UvBmZ",
        "outputId": "1383c6cd-2adf-445a-fd47-489dc95ea504"
      },
      "execution_count": 79,
      "outputs": [
        {
          "output_type": "stream",
          "name": "stdout",
          "text": [
            "-6\n"
          ]
        }
      ]
    },
    {
      "cell_type": "code",
      "source": [
        "##Ejercicio 9\n",
        "palabra=str('hola')\n",
        "def invertir(palabra):\n",
        "  invertido=palabra[::-1]\n",
        "  return invertido\n",
        "\n",
        "invertir(palabra)\n",
        "\n"
      ],
      "metadata": {
        "colab": {
          "base_uri": "https://localhost:8080/",
          "height": 35
        },
        "id": "cgz4pt_lvL6R",
        "outputId": "6546a76f-eb4d-4471-ee4b-46c15bf0fa5c"
      },
      "execution_count": 103,
      "outputs": [
        {
          "output_type": "execute_result",
          "data": {
            "text/plain": [
              "'aloh'"
            ],
            "application/vnd.google.colaboratory.intrinsic+json": {
              "type": "string"
            }
          },
          "metadata": {},
          "execution_count": 103
        }
      ]
    },
    {
      "cell_type": "code",
      "source": [
        "##ejercicio 10\n",
        "def factorial(numero): \n",
        "    if numero< 0: \n",
        "        print(\"factorial no existe\")\n",
        "    elif numero == 0: \n",
        "        return 1  \n",
        "    else: \n",
        "        factorial=1\n",
        "        while(numero > 1): \n",
        "            factorial *= numero \n",
        "            numero-= 1\n",
        "        return factorial \n",
        "numero = 5; \n",
        "\n",
        "print(\"factorial del numero\",numero,\"es\",factorial(numero)) "
      ],
      "metadata": {
        "colab": {
          "base_uri": "https://localhost:8080/"
        },
        "id": "PWIb-XmrxSqn",
        "outputId": "714b0621-d6a7-4be5-9038-f6135efae0f7"
      },
      "execution_count": 100,
      "outputs": [
        {
          "output_type": "stream",
          "name": "stdout",
          "text": [
            "factorial del numero 5 es 120\n"
          ]
        }
      ]
    },
    {
      "cell_type": "code",
      "source": [],
      "metadata": {
        "id": "w4NCAhUqxvlK"
      },
      "execution_count": null,
      "outputs": []
    }
  ]
}