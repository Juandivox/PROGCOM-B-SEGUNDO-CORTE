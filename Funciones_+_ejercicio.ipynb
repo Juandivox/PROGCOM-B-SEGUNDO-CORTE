{
  "nbformat": 4,
  "nbformat_minor": 0,
  "metadata": {
    "colab": {
      "provenance": []
    },
    "kernelspec": {
      "name": "python3",
      "display_name": "Python 3"
    },
    "language_info": {
      "name": "python"
    }
  },
  "cells": [
    {
      "cell_type": "code",
      "execution_count": null,
      "metadata": {
        "id": "q_OfFRuV-Gci"
      },
      "outputs": [],
      "source": [
        "#ESTA MAL\n",
        "\n",
        "from re import X\n",
        "valor1=int(input(\"Ingrese el primer valor: \"))\n",
        "valor2=int(input(\"Ingrese el segundo valor: \"))\n",
        "operador=input(\"Ingrese la operacion: \")\n",
        "def calculadora(a,b,c):\n",
        "  if c==\"+\":\n",
        "    X=a+b\n",
        "  if c==\"-\":\n",
        "    X=a-b\n",
        "  if c==\"*\":\n",
        "    X=a*b \n",
        "  if c==\"/\" and b==0:\n",
        "    print(\"No se puede compá\")\n",
        "    X=None\n",
        "  else:\n",
        "    X=a/b     \n",
        "  return X\n",
        "\n",
        "X=0\n",
        "calculadora(valor1,valor2,operador)\n",
        "\n",
        "print(\"El resultado es: \"+str(X))\n",
        "\n"
      ]
    },
    {
      "cell_type": "code",
      "source": [
        "#sin Parametro con retorno\n",
        "\n",
        "def verificar (correo,contraseña):\n",
        "  if (correo == (\"jramirez437@unab.edu.co\") and contraseña  ==(\"12345\")):\n",
        "    return True\n",
        "  else:\n",
        "    return False\n",
        "\n",
        "def principal():\n",
        "  correo=input(\"correo:\")\n",
        "  contraseña=input(\"contraseña\")\n",
        "  login=verificar(correo, contraseña)\n",
        "  if(login == True):\n",
        "    print(\"bienvenido al sistema\")\n",
        "  else:\n",
        "    print(\"usuario incorrecto\")\n",
        "\n",
        "principal()\n",
        "\n",
        "##hacer que se verifique ingresar el correo y revise en excel \n",
        "#1 correo 2 contraseña\n",
        "#si vamos a usar panda toca usar el metodo ilot o ilo"
      ],
      "metadata": {
        "colab": {
          "base_uri": "https://localhost:8080/"
        },
        "id": "ihZNmmeRCdVC",
        "outputId": "29d0079b-ab6c-4715-fea5-36ee00108abc"
      },
      "execution_count": 9,
      "outputs": [
        {
          "output_type": "stream",
          "name": "stdout",
          "text": [
            "correo:jramirez437@unab.edu.co\n",
            "contraseña12345\n",
            "bienvenido al sistema\n"
          ]
        }
      ]
    },
    {
      "cell_type": "code",
      "source": [
        "#calcular edad\n",
        "\n",
        "def calcularEdad (a,b):\n",
        "  c=a-b\n",
        "  return c\n",
        "\n",
        "actual=int(input(\"Coloca el año Actual \"))\n",
        "nacimiento=int(input(\"Coloca Tu fecha de nacimiento \"))\n",
        "x=calcularEdad(actual,nacimiento)\n",
        "nacimiento=int(input(\"coloca la año de nacimiento de tu amigo \"))\n",
        "y=calcularEdad(actual,nacimiento)\n",
        "\n",
        "print(f\"tengo {x} años y mi amigo tiene {y} años\")\n",
        "\n"
      ],
      "metadata": {
        "colab": {
          "base_uri": "https://localhost:8080/"
        },
        "id": "E_4sV8C0MXyz",
        "outputId": "ae97b265-7ab5-4018-9d21-5683d15cf9ff"
      },
      "execution_count": 14,
      "outputs": [
        {
          "output_type": "stream",
          "name": "stdout",
          "text": [
            "Coloca el año Actual 2022\n",
            "Coloca Tu fecha de nacimiento 2005\n",
            "coloca la año de nacimiento de tu amigo 1945\n",
            "tengo 17 años y mi amigo tiene 77 años\n"
          ]
        }
      ]
    },
    {
      "cell_type": "code",
      "source": [
        "#informacion personal\n",
        "def informacionPersonal():\n",
        "  nombre=input(\"ingrese el nombre: \")\n",
        "  edad=input(\"ingrese su edad: \")\n",
        "  pais=input(\"ingrese su pais: \")\n",
        " \n",
        "  print(f\"{nombre}, de {pais}, tiene {edad} años de edad\")\n",
        "informacionPersonal()"
      ],
      "metadata": {
        "colab": {
          "base_uri": "https://localhost:8080/"
        },
        "id": "RSTtkFnJQdeD",
        "outputId": "adf02240-3d03-45f7-9295-6caeeeef4dd1"
      },
      "execution_count": 17,
      "outputs": [
        {
          "output_type": "stream",
          "name": "stdout",
          "text": [
            "Coloca el año Actual 2022\n",
            "Coloca Tu fecha de nacimiento 2005\n",
            "coloca la año de nacimiento de tu amigo 1895\n",
            "tengo 17 años y mi amigo tiene 127 años\n",
            "ingrese el nombre: juan\n",
            "ingrese su edad: 127\n",
            "ingrese su pais: kasajistan\n",
            "juan, de kasajistan, tiene 127 años de edad\n"
          ]
        }
      ]
    }
  ]
}