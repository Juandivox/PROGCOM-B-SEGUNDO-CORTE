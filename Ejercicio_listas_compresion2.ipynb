{
  "nbformat": 4,
  "nbformat_minor": 0,
  "metadata": {
    "colab": {
      "provenance": []
    },
    "kernelspec": {
      "name": "python3",
      "display_name": "Python 3"
    },
    "language_info": {
      "name": "python"
    }
  },
  "cells": [
    {
      "cell_type": "code",
      "execution_count": null,
      "metadata": {
        "colab": {
          "base_uri": "https://localhost:8080/"
        },
        "id": "ipCSbdCffUOI",
        "outputId": "c9395cf4-e980-4d8f-b5b1-50672013fe05"
      },
      "outputs": [
        {
          "output_type": "stream",
          "name": "stdout",
          "text": [
            "[1, 2, 3, 4]\n"
          ]
        }
      ],
      "source": [
        "Numeros=[n for n in range(1,6)]\n",
        "factor=1\n",
        " if n>1:\n",
        "   factor*=n\n",
        "   n-=1"
      ]
    },
    {
      "cell_type": "code",
      "source": [
        "import random\n",
        "numeros1 = [1,2,3,4,5,]\n",
        "numeros2 = [2,3,4]\n",
        "comun = []\n",
        "for a in numeros1:\n",
        "    for b in numeros2:\n",
        "        if a == b:\n",
        "            comun.append(a)\n",
        "print(comun)"
      ],
      "metadata": {
        "colab": {
          "base_uri": "https://localhost:8080/"
        },
        "id": "WkpFcd_VoaQr",
        "outputId": "29d29616-31e4-4b8d-9fc2-801e3080b974"
      },
      "execution_count": 3,
      "outputs": [
        {
          "output_type": "stream",
          "name": "stdout",
          "text": [
            "[2, 3, 4]\n"
          ]
        }
      ]
    },
    {
      "cell_type": "markdown",
      "source": [
        "##Buscador de numeros comunes entre aletorios\n",
        "\n",
        "1.   Se crean dos listas numeros1 y numeros1 y se le colocan datos aleatorios.\n",
        "2.   se crea una lista vacia para guardar los datos\n",
        "3.   se coloca numeros 1 como a y numeros 2 como b\n",
        "4.   Se comparan los datos entre a y b\n",
        "5.   se usa comun.append(a)\n",
        "2.   Elemento de lista\n",
        "\n",
        "\n",
        "\n"
      ],
      "metadata": {
        "id": "nfws_PGyXWwq"
      }
    },
    {
      "cell_type": "code",
      "source": [
        "##falta comprencion"
      ],
      "metadata": {
        "id": "epQz02Hyq9rH"
      },
      "execution_count": null,
      "outputs": []
    },
    {
      "cell_type": "code",
      "source": [
        "numeros1 = [random.randint(0, 2000) for x in range(100)]\n",
        "numeros2 = [random.randint(0, 2000) for x in range(100)]\n",
        "comun = [numeros1[y] for y in range(1,100) if numeros1[y] == numeros2[y]]\n",
        "print(comun)\n",
        "for a in numeros1:\n",
        "    for b in numeros2:\n",
        "        if a == b:\n",
        "            comun.append(a)\n",
        "print(comun)"
      ],
      "metadata": {
        "colab": {
          "base_uri": "https://localhost:8080/"
        },
        "id": "u7Eg4h2UiNOr",
        "outputId": "77ea6592-df77-406b-93d4-c8583275004b"
      },
      "execution_count": 48,
      "outputs": [
        {
          "output_type": "stream",
          "name": "stdout",
          "text": [
            "[]\n",
            "[322, 1798, 387, 108, 1167, 875, 1349]\n"
          ]
        }
      ]
    },
    {
      "cell_type": "code",
      "source": [
        "numeros1 = [random.randint(0, 2000) for x in range(100)]\n",
        "numeros2 = [random.randint(0, 2000) for x in range(100)]\n",
        "comun = []\n",
        "for a in numeros1:\n",
        "    for b in numeros2:\n",
        "        if a == b:\n",
        "            comun.append(a)\n",
        "print(comun)"
      ],
      "metadata": {
        "colab": {
          "base_uri": "https://localhost:8080/"
        },
        "id": "g0qTapC3hWzz",
        "outputId": "8802d8b3-cecc-4d85-8f06-372f97529f82"
      },
      "execution_count": 45,
      "outputs": [
        {
          "output_type": "stream",
          "name": "stdout",
          "text": [
            "[1101, 827, 827, 827, 391]\n"
          ]
        }
      ]
    },
    {
      "cell_type": "code",
      "source": [
        "numeros1 = [random.randint(0, 2000) for x in range(100)]\n",
        "numeros2 = [random.randint(0, 2000) for x in range(100)]\n",
        "comun = []\n",
        "for a in numeros1:\n",
        "    for b in numeros2:\n",
        "        if a == b:\n",
        "            comun.append(a)\n",
        "print(comun)"
      ],
      "metadata": {
        "colab": {
          "base_uri": "https://localhost:8080/"
        },
        "id": "YhZ--WzTxIO4",
        "outputId": "37e8999d-380e-43cd-f68f-0812f88a696b"
      },
      "execution_count": null,
      "outputs": [
        {
          "output_type": "stream",
          "name": "stdout",
          "text": [
            "[792, 1163, 691, 968, 928, 246, 1034]\n"
          ]
        }
      ]
    },
    {
      "cell_type": "code",
      "source": [
        "numeros1 = [random.randint(0, 2000) for x in range(100)]\n",
        "numeros2 = [random.randint(0, 2000) for x in range(100)]\n",
        "comun = []\n",
        "comun=list(filter(lambda num:num in numeros1,numeros2))\n",
        "print(comun)"
      ],
      "metadata": {
        "colab": {
          "base_uri": "https://localhost:8080/"
        },
        "id": "FhLYLKFyaXDX",
        "outputId": "ce7c042d-ced8-42bd-9e65-70f8b11ba7b6"
      },
      "execution_count": null,
      "outputs": [
        {
          "output_type": "stream",
          "name": "stdout",
          "text": [
            "[1868, 329]\n"
          ]
        }
      ]
    },
    {
      "cell_type": "code",
      "source": [
        "numeros1 = [random.randint(0, 2000) for x in range(100)]\n",
        "numeros2 = [random.randint(0, 2000) for x in range(100)]\n",
        "comun = [x for x in numeros1 for y in numeros2 if x==y]\n",
        "print(comun)"
      ],
      "metadata": {
        "colab": {
          "base_uri": "https://localhost:8080/"
        },
        "id": "cU9qDMFvrD_Z",
        "outputId": "69d1d838-c1a0-4d83-e185-1afe33fbcf52"
      },
      "execution_count": 49,
      "outputs": [
        {
          "output_type": "stream",
          "name": "stdout",
          "text": [
            "[1708, 1395, 1485, 105, 710, 1778, 1920]\n"
          ]
        }
      ]
    },
    {
      "cell_type": "markdown",
      "source": [
        "###Ejercicios compañeros"
      ],
      "metadata": {
        "id": "4S3nLzd0k_1l"
      }
    },
    {
      "cell_type": "code",
      "source": [
        "#Ejercicio de Samuel\n",
        "numbers=[1,2,3,4]\n",
        "results=[]\n",
        "for n in numbers:\n",
        "  results.append(n+1)\n",
        "results"
      ],
      "metadata": {
        "id": "nPQzsxgUlD4c"
      },
      "execution_count": null,
      "outputs": []
    },
    {
      "cell_type": "code",
      "source": [
        "#Ejercicio jesus\n",
        "n=int(input(\"Hasta que numero quieres imprimir los pares e impares: \"))\n",
        "pares=[numero for numero in range(0,n+1) if numero%2==0]\n",
        "print(pares)\n",
        "impares=[numero for numero in range(0,n+1) if numero%2!=0]\n",
        "print(impares)"
      ],
      "metadata": {
        "id": "LRJmKqXXrWVU"
      },
      "execution_count": null,
      "outputs": []
    },
    {
      "cell_type": "code",
      "source": [
        "num=int(input(\"Hasta que numero quieres imprimir los pares e impares: \"))\n",
        "def hola(n):\n",
        "  pares=[numero for numero in range(0,n+1) if numero%2==0]\n",
        "  print(pares)\n",
        "  impares=[numero for numero in range(0,n+1) if numero%2!=0]\n",
        "  print(impares)\n",
        "hola(num)"
      ],
      "metadata": {
        "id": "_I6Qq4vbr5sM"
      },
      "execution_count": null,
      "outputs": []
    },
    {
      "cell_type": "code",
      "source": [
        "num=int(input(\"Hasta que número quieres imprimir los pares e impares: \"))\n",
        "mi_lista=[n for n in range(0, num+1)]\n",
        "pares=list(filter(lambda num:num%2==0,mi_lista))\n",
        "print(pares)\n",
        "impares=list(filter(lambda num:num%2!=0,mi_lista))\n",
        "print(impares)"
      ],
      "metadata": {
        "id": "12yObOeqsTZU"
      },
      "execution_count": null,
      "outputs": []
    },
    {
      "cell_type": "code",
      "source": [
        "#Ejercicio de Jhonsito\n",
        "def perfecto(numero):\n",
        "  perf=0\n",
        "  for i in range(1,numero):\n",
        "    if numero%i==0:\n",
        "      perf+=i\n",
        "    if perf==numero:\n",
        "      print(\"Es numero perfecto\")\n",
        "      return True\n",
        "    else:\n",
        "      print(\"No es numero perfecto\")\n",
        "numero=6\n",
        "perfecto(numero)"
      ],
      "metadata": {
        "id": "1K1a7PJ1rMs3"
      },
      "execution_count": null,
      "outputs": []
    },
    {
      "cell_type": "code",
      "source": [
        "def numeros():\n",
        "  a=int(input(\"ingresa un nümero\"))\n",
        "  b=int(input(\"ingresa un nümero\"))\n",
        "  c=int(input(\"ingresa un nümero\"))\n",
        "  d=int(input(\"ingresa un nümero\"))\n",
        "  perfect=[a,b,c,d]\n",
        "  perfect=[elemento for elemento in perfect if perfecto(elemento==True)]\n",
        "numeros()"
      ],
      "metadata": {
        "id": "4K-kBMx5rOLV"
      },
      "execution_count": null,
      "outputs": []
    },
    {
      "cell_type": "code",
      "source": [
        "lista=[2,3,6,4]\n",
        "perfect2=list(map(lambda elemento:perfecto(elemento)==True,lista))\n",
        "perfect2"
      ],
      "metadata": {
        "id": "8_eYeMq4rRYN"
      },
      "execution_count": null,
      "outputs": []
    },
    {
      "cell_type": "code",
      "source": [
        "#lambda daniel\n",
        "lambda_func = lambda x: x**2\n",
        "lambda_func(3)"
      ],
      "metadata": {
        "colab": {
          "base_uri": "https://localhost:8080/"
        },
        "id": "SgZiNPJ8rFRP",
        "outputId": "5277f62b-154c-43ac-9d43-94fd7e1fbb6c"
      },
      "execution_count": 50,
      "outputs": [
        {
          "output_type": "execute_result",
          "data": {
            "text/plain": [
              "9"
            ]
          },
          "metadata": {},
          "execution_count": 50
        }
      ]
    },
    {
      "cell_type": "code",
      "source": [
        "#tradicional\n",
        "def squarel(num):\n",
        "  return num**2\n",
        "  print(squarel(5))"
      ],
      "metadata": {
        "id": "m4kiuWRGrne5"
      },
      "execution_count": 55,
      "outputs": []
    },
    {
      "cell_type": "code",
      "source": [
        "#comprension\n",
        "L=[1,2,3,4]\n",
        "L2=[n**2 for n in L]\n",
        "print(L2)"
      ],
      "metadata": {
        "colab": {
          "base_uri": "https://localhost:8080/"
        },
        "id": "Vpgm0qSlr67e",
        "outputId": "f681b3fc-d3af-4e96-dcbc-26546d5397ba"
      },
      "execution_count": 54,
      "outputs": [
        {
          "output_type": "stream",
          "name": "stdout",
          "text": [
            "[1, 4, 9, 16]\n"
          ]
        }
      ]
    },
    {
      "cell_type": "code",
      "source": [
        "#ANGIE \n",
        "nom1=[\"Sumuel\",\"juan david\",\"monchito\",\"pancho\",\"garrapacho\"]\n",
        "nom2=[\"Samuel\",\"pancho\",\"juan david\",\"monchito\",\"garrapacho\"]\n",
        "#comprencion\n",
        "common=[a for a in nom1 for b in nom2 if a == b]\n",
        "common"
      ],
      "metadata": {
        "colab": {
          "base_uri": "https://localhost:8080/"
        },
        "id": "w1YX1PuhsRDt",
        "outputId": "9b9499aa-8b73-46cf-aa74-5a9dff678719"
      },
      "execution_count": 62,
      "outputs": [
        {
          "output_type": "execute_result",
          "data": {
            "text/plain": [
              "['juan david', 'monchito', 'pancho', 'garrapacho']"
            ]
          },
          "metadata": {},
          "execution_count": 62
        }
      ]
    },
    {
      "cell_type": "code",
      "source": [
        "#lambdam\n",
        "common1=lambda nom1,nom2:common\n",
        "print(common1(nom1,nom2))"
      ],
      "metadata": {
        "colab": {
          "base_uri": "https://localhost:8080/"
        },
        "id": "6zxi0p17un07",
        "outputId": "7ea88e85-441e-4061-9a3c-ac4e0e5d6b16"
      },
      "execution_count": 63,
      "outputs": [
        {
          "output_type": "stream",
          "name": "stdout",
          "text": [
            "['juan david', 'monchito', 'pancho', 'garrapacho']\n"
          ]
        }
      ]
    },
    {
      "cell_type": "code",
      "source": [
        "#tradicional\n",
        "for a in nom1:\n",
        "    for b in nom2:\n",
        "        if a == b:\n",
        "            common.append(a)\n",
        "print(common)"
      ],
      "metadata": {
        "colab": {
          "base_uri": "https://localhost:8080/"
        },
        "id": "BDbNljo9u3Xt",
        "outputId": "f79c0440-96dc-442a-b89b-5e0f7105c2fc"
      },
      "execution_count": 65,
      "outputs": [
        {
          "output_type": "stream",
          "name": "stdout",
          "text": [
            "['juan david', 'monchito', 'pancho', 'garrapacho', 'juan david', 'monchito', 'pancho', 'garrapacho']\n"
          ]
        }
      ]
    },
    {
      "cell_type": "code",
      "source": [
        "#VALENTINA tradicional\n",
        "def listaIMC(usuarios):\n",
        "  sis =[]\n",
        "  imc=[]\n",
        "  b=0\n",
        "  a2=0\n",
        "  for n in range (usuarios):\n",
        "    w=input(\"¿cual es tu nombre? \")\n",
        "    b=int(input(\"ingresa tu peso \"))\n",
        "    a2=int(input(\"ingresa tu altura \"))\n",
        "    sis.append((w,b/a2**2))\n",
        "    imc.append(b/a2**2)\n",
        "  return sis,imc\n",
        "\n",
        "user=int(input(\"¿cuantos usuarios hay? \"))\n",
        "\n",
        "sis,imc=listaIMC(user)"
      ],
      "metadata": {
        "colab": {
          "base_uri": "https://localhost:8080/"
        },
        "id": "hi41Qlchwk-k",
        "outputId": "a453d17f-0b85-4b12-b723-194adc4cad80"
      },
      "execution_count": 76,
      "outputs": [
        {
          "name": "stdout",
          "output_type": "stream",
          "text": [
            "¿cuantos usuarios hay? 3\n",
            "¿cual es tu nombre? juan\n",
            "ingresa tu peso 239\n",
            "ingresa tu altura 24334\n",
            "¿cual es tu nombre? alfonso\n",
            "ingresa tu peso 9803475378243\n",
            "ingresa tu altura 4314679\n",
            "¿cual es tu nombre? juandivox\n",
            "ingresa tu peso 8232398\n",
            "ingresa tu altura 898387379\n"
          ]
        }
      ]
    },
    {
      "cell_type": "code",
      "source": [
        "#compresion\n",
        "sis=listaIMC(user)\n",
        "sis2=[n for n in imc if n>= 18.5]\n",
        "print(sis2)"
      ],
      "metadata": {
        "colab": {
          "base_uri": "https://localhost:8080/"
        },
        "id": "-WXCgVA4xw9T",
        "outputId": "2d9b93a4-69f3-4c88-8c6a-6e892b2a39fd"
      },
      "execution_count": 77,
      "outputs": [
        {
          "output_type": "stream",
          "name": "stdout",
          "text": [
            "¿cual es tu nombre? juan\n",
            "ingresa tu peso 2929\n",
            "ingresa tu altura 1234\n",
            "¿cual es tu nombre? alfonso\n",
            "ingresa tu peso 3335425\n",
            "ingresa tu altura 342525\n",
            "¿cual es tu nombre? si\n",
            "ingresa tu peso 34253\n",
            "ingresa tu altura 2345234\n",
            "[]\n"
          ]
        }
      ]
    },
    {
      "cell_type": "code",
      "source": [
        "#lambda\n",
        "sis3=list(map(lambda x: \" peso insuficiente\" if x<18.5 else \"peso normal\" if (x>=18.5 and x<24.9) else \"sobrepeso\" if (x>24.9 and x<30) else \"obesidad\", imc))\n",
        "sis3"
      ],
      "metadata": {
        "colab": {
          "base_uri": "https://localhost:8080/"
        },
        "id": "dikXGYUGyRzq",
        "outputId": "46445d06-4bca-4d0f-a43c-5a7cd82b7824"
      },
      "execution_count": 78,
      "outputs": [
        {
          "output_type": "execute_result",
          "data": {
            "text/plain": [
              "[' peso insuficiente', ' peso insuficiente', ' peso insuficiente']"
            ]
          },
          "metadata": {},
          "execution_count": 78
        }
      ]
    },
    {
      "cell_type": "code",
      "source": [
        "#LUIS MIGUEL \n",
        "#normal\n",
        "print(\"Ingrese su codigo\")\n",
        "caracter=input()\n",
        "if len(caracter)==9:\n",
        "  if caracter[0]=='u':\n",
        "    print(\"Eres un estudiante Unab\")\n",
        "  elif(caracter.startswith('a000')):\n",
        "    print(\"Eres un estudiante de los Andes\")\n",
        "  else:\n",
        "    if(int(caracter)>=1950):\n",
        "      print(\"Eres estudiante UIS\")\n",
        "\n",
        "else:\n",
        "  print(\"Su codifo no corresponde a ninguna universidad\")"
      ],
      "metadata": {
        "colab": {
          "base_uri": "https://localhost:8080/"
        },
        "id": "lS5dY8N50M3L",
        "outputId": "52796d42-4e46-437c-969b-c9c8adafe37d"
      },
      "execution_count": 88,
      "outputs": [
        {
          "output_type": "stream",
          "name": "stdout",
          "text": [
            "Ingrese su codigo\n",
            "uuuuuuuuu\n",
            "Eres un estudiante Unab\n"
          ]
        }
      ]
    },
    {
      "cell_type": "code",
      "source": [
        "universidades=[\"unab\",\"uis\", \"andes\"]\n",
        "codigo=[\"U0123456\",\"198562\",\"a0005645\"]\n",
        "u=[cod for cod in codigo if(cod[0]==\"u\" and len(cod)==8)]\n",
        "print(u)"
      ],
      "metadata": {
        "colab": {
          "base_uri": "https://localhost:8080/"
        },
        "id": "D42Ut_kA3fsU",
        "outputId": "06b7692a-c696-48f8-b465-2c620376d712"
      },
      "execution_count": 85,
      "outputs": [
        {
          "output_type": "stream",
          "name": "stdout",
          "text": [
            "[]\n"
          ]
        }
      ]
    },
    {
      "cell_type": "code",
      "source": [
        "y=list(map(lambda x:\"unab\" if (x[0]==\"U\" or x[0]==\"u\") else None, codigo))\n",
        "y"
      ],
      "metadata": {
        "colab": {
          "base_uri": "https://localhost:8080/"
        },
        "id": "RW6K5i0G3gTE",
        "outputId": "5ba74392-4b81-47e4-e062-873e53d95cd6"
      },
      "execution_count": 86,
      "outputs": [
        {
          "output_type": "execute_result",
          "data": {
            "text/plain": [
              "['unab', None, None]"
            ]
          },
          "metadata": {},
          "execution_count": 86
        }
      ]
    },
    {
      "cell_type": "code",
      "source": [
        "#Cristian\n",
        "lista=[]\n",
        "x=0\n",
        "while x==0:\n",
        "  entrada= input(\"Ingrese un codigo\")\n",
        "  lista.append(entrada)\n",
        "  a=int(input(\"¿Deseas ingresar otro?, ingresa 0 si lo deseas, sino regresa 1\"))\n",
        "  if a==1:\n",
        "    x=x+1\n",
        "clasificacion=[a for a in lista if a.startswith(\"U000\") and len(a)=9]\n",
        "print(f\"Hay {len(clasificacion)} estudiante(s) de la Unab y sus codigo(1) son {clasificacion}\")\n",
        "clasificacion =[]"
      ],
      "metadata": {
        "id": "_mB98pB85ZQ8"
      },
      "execution_count": null,
      "outputs": []
    },
    {
      "cell_type": "code",
      "source": [
        "#armith\n",
        "#Tradicional\n",
        "num=[1,2,3,4,5,6,7,8,9,10]\n",
        "exp=int(input(\"Escriba su exponenete: \"))\n",
        "x=len(num)\n",
        "for n in range(1,(x)):\n",
        "  num[n]=num[n]**exp\n",
        "print(num)\n",
        "def imprimir(num):\n",
        "  s=1\n",
        "  for i in num:\n",
        "    print(f\"\\nEl resultado del elemento {s} de la lista es {i}\")\n",
        "    s+=1\n",
        "\n",
        "imprimir(num)"
      ],
      "metadata": {
        "id": "cxvV8Nwm5phD"
      },
      "execution_count": null,
      "outputs": []
    },
    {
      "cell_type": "code",
      "source": [
        "#Por comprension\n",
        "num=[1,2,3,4,5,6,7,8,9,10]\n",
        "exp=int(input(\"Escriba su exponenete: \"))\n",
        "numeros=[n**exp for n in num]\n",
        "numeros\n",
        "imprimir(numeros)"
      ],
      "metadata": {
        "id": "CXc4WAF25snb"
      },
      "execution_count": null,
      "outputs": []
    },
    {
      "cell_type": "code",
      "source": [
        "#Lambda\n",
        "num=list(range(1,11))\n",
        "exp=int(input(\"Escriba su exponenete: \"))\n",
        "numeros=lambda num,exp:(n**exp for n in num)\n",
        "numero1=numeros(num,exp)\n",
        "imprimir(list(numero1))"
      ],
      "metadata": {
        "id": "-_alsNMP5v-z"
      },
      "execution_count": null,
      "outputs": []
    }
  ]
}