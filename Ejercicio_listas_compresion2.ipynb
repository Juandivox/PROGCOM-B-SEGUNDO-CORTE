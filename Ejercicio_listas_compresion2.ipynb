{
  "nbformat": 4,
  "nbformat_minor": 0,
  "metadata": {
    "colab": {
      "provenance": []
    },
    "kernelspec": {
      "name": "python3",
      "display_name": "Python 3"
    },
    "language_info": {
      "name": "python"
    }
  },
  "cells": [
    {
      "cell_type": "code",
      "execution_count": null,
      "metadata": {
        "colab": {
          "base_uri": "https://localhost:8080/"
        },
        "id": "ipCSbdCffUOI",
        "outputId": "c9395cf4-e980-4d8f-b5b1-50672013fe05"
      },
      "outputs": [
        {
          "output_type": "stream",
          "name": "stdout",
          "text": [
            "[1, 2, 3, 4]\n"
          ]
        }
      ],
      "source": [
        "Numeros=[n for n in range(1,6)]\n",
        "factor=1\n",
        " if n>1:\n",
        "   factor*=n\n",
        "   n-=1"
      ]
    },
    {
      "cell_type": "code",
      "source": [
        "import random\n",
        "numeros1 = [1,2,3,4,5,]\n",
        "numeros2 = [2,3,4]\n",
        "comun = []\n",
        "for a in numeros1:\n",
        "    for b in numeros2:\n",
        "        if a == b:\n",
        "            comun.append(a)\n",
        "print(comun)"
      ],
      "metadata": {
        "colab": {
          "base_uri": "https://localhost:8080/"
        },
        "id": "WkpFcd_VoaQr",
        "outputId": "29d29616-31e4-4b8d-9fc2-801e3080b974"
      },
      "execution_count": null,
      "outputs": [
        {
          "output_type": "stream",
          "name": "stdout",
          "text": [
            "[2, 3, 4]\n"
          ]
        }
      ]
    },
    {
      "cell_type": "markdown",
      "source": [
        "##Buscador de numeros comunes entre aletorios\n",
        "\n",
        "1.   Se crean dos listas numeros1 y numeros1 y se le colocan datos aleatorios.\n",
        "2.   se crea una lista vacia para guardar los datos\n",
        "3.   se coloca numeros 1 como a y numeros 2 como b\n",
        "4.   Se comparan los datos entre a y b\n",
        "5.   se usa comun.append(a)\n",
        "2.   Elemento de lista\n",
        "\n",
        "\n",
        "\n"
      ],
      "metadata": {
        "id": "nfws_PGyXWwq"
      }
    },
    {
      "cell_type": "code",
      "source": [
        "##falta comprencion"
      ],
      "metadata": {
        "id": "epQz02Hyq9rH"
      },
      "execution_count": null,
      "outputs": []
    },
    {
      "cell_type": "code",
      "source": [
        "numeros1 = [random.randint(0, 2000) for x in range(100)]\n",
        "numeros2 = [random.randint(0, 2000) for x in range(100)]\n",
        "comun = [numeros1[y] for y in range(1,100) if numeros1[y] == numeros2[y]]\n",
        "print(comun)\n",
        "for a in numeros1:\n",
        "    for b in numeros2:\n",
        "        if a == b:\n",
        "            comun.append(a)\n",
        "print(comun)"
      ],
      "metadata": {
        "colab": {
          "base_uri": "https://localhost:8080/"
        },
        "id": "u7Eg4h2UiNOr",
        "outputId": "77ea6592-df77-406b-93d4-c8583275004b"
      },
      "execution_count": null,
      "outputs": [
        {
          "output_type": "stream",
          "name": "stdout",
          "text": [
            "[]\n",
            "[322, 1798, 387, 108, 1167, 875, 1349]\n"
          ]
        }
      ]
    },
    {
      "cell_type": "code",
      "source": [
        "numeros1 = [random.randint(0, 2000) for x in range(100)]\n",
        "numeros2 = [random.randint(0, 2000) for x in range(100)]\n",
        "comun = []\n",
        "for a in numeros1:\n",
        "    for b in numeros2:\n",
        "        if a == b:\n",
        "            comun.append(a)\n",
        "print(comun)"
      ],
      "metadata": {
        "colab": {
          "base_uri": "https://localhost:8080/"
        },
        "id": "g0qTapC3hWzz",
        "outputId": "8802d8b3-cecc-4d85-8f06-372f97529f82"
      },
      "execution_count": null,
      "outputs": [
        {
          "output_type": "stream",
          "name": "stdout",
          "text": [
            "[1101, 827, 827, 827, 391]\n"
          ]
        }
      ]
    },
    {
      "cell_type": "code",
      "source": [
        "numeros1 = [random.randint(0, 2000) for x in range(100)]\n",
        "numeros2 = [random.randint(0, 2000) for x in range(100)]\n",
        "comun = []\n",
        "for a in numeros1:\n",
        "    for b in numeros2:\n",
        "        if a == b:\n",
        "            comun.append(a)\n",
        "print(comun)"
      ],
      "metadata": {
        "colab": {
          "base_uri": "https://localhost:8080/"
        },
        "id": "YhZ--WzTxIO4",
        "outputId": "37e8999d-380e-43cd-f68f-0812f88a696b"
      },
      "execution_count": null,
      "outputs": [
        {
          "output_type": "stream",
          "name": "stdout",
          "text": [
            "[792, 1163, 691, 968, 928, 246, 1034]\n"
          ]
        }
      ]
    },
    {
      "cell_type": "code",
      "source": [
        "numeros1 = [random.randint(0, 2000) for x in range(100)]\n",
        "numeros2 = [random.randint(0, 2000) for x in range(100)]\n",
        "comun = []\n",
        "comun=list(filter(lambda num:num in numeros1,numeros2))\n",
        "print(comun)"
      ],
      "metadata": {
        "colab": {
          "base_uri": "https://localhost:8080/"
        },
        "id": "FhLYLKFyaXDX",
        "outputId": "ce7c042d-ced8-42bd-9e65-70f8b11ba7b6"
      },
      "execution_count": null,
      "outputs": [
        {
          "output_type": "stream",
          "name": "stdout",
          "text": [
            "[1868, 329]\n"
          ]
        }
      ]
    },
    {
      "cell_type": "code",
      "source": [
        "numeros1 = [random.randint(0, 2000) for x in range(100)]\n",
        "numeros2 = [random.randint(0, 2000) for x in range(100)]\n",
        "comun = [x for x in numeros1 for y in numeros2 if x==y]\n",
        "print(comun)"
      ],
      "metadata": {
        "colab": {
          "base_uri": "https://localhost:8080/"
        },
        "id": "cU9qDMFvrD_Z",
        "outputId": "69d1d838-c1a0-4d83-e185-1afe33fbcf52"
      },
      "execution_count": null,
      "outputs": [
        {
          "output_type": "stream",
          "name": "stdout",
          "text": [
            "[1708, 1395, 1485, 105, 710, 1778, 1920]\n"
          ]
        }
      ]
    },
    {
      "cell_type": "markdown",
      "source": [
        "###Ejercicios compañeros"
      ],
      "metadata": {
        "id": "4S3nLzd0k_1l"
      }
    },
    {
      "cell_type": "code",
      "source": [
        "#Ejercicio de Samuel\n",
        "numbers=[1,2,3,4]\n",
        "results=[]\n",
        "for n in numbers:\n",
        "  results.append(n+1)\n",
        "results"
      ],
      "metadata": {
        "id": "nPQzsxgUlD4c"
      },
      "execution_count": null,
      "outputs": []
    },
    {
      "cell_type": "code",
      "source": [
        "#Ejercicio jesus\n",
        "n=int(input(\"Hasta que numero quieres imprimir los pares e impares: \"))\n",
        "pares=[numero for numero in range(0,n+1) if numero%2==0]\n",
        "print(pares)\n",
        "impares=[numero for numero in range(0,n+1) if numero%2!=0]\n",
        "print(impares)"
      ],
      "metadata": {
        "id": "LRJmKqXXrWVU"
      },
      "execution_count": null,
      "outputs": []
    },
    {
      "cell_type": "code",
      "source": [
        "num=int(input(\"Hasta que numero quieres imprimir los pares e impares: \"))\n",
        "def hola(n):\n",
        "  pares=[numero for numero in range(0,n+1) if numero%2==0]\n",
        "  print(pares)\n",
        "  impares=[numero for numero in range(0,n+1) if numero%2!=0]\n",
        "  print(impares)\n",
        "hola(num)"
      ],
      "metadata": {
        "id": "_I6Qq4vbr5sM"
      },
      "execution_count": null,
      "outputs": []
    },
    {
      "cell_type": "code",
      "source": [
        "num=int(input(\"Hasta que número quieres imprimir los pares e impares: \"))\n",
        "mi_lista=[n for n in range(0, num+1)]\n",
        "pares=list(filter(lambda num:num%2==0,mi_lista))\n",
        "print(pares)\n",
        "impares=list(filter(lambda num:num%2!=0,mi_lista))\n",
        "print(impares)"
      ],
      "metadata": {
        "id": "12yObOeqsTZU"
      },
      "execution_count": null,
      "outputs": []
    },
    {
      "cell_type": "code",
      "source": [
        "#Ejercicio de Jhonsito\n",
        "def perfecto(numero):\n",
        "  perf=0\n",
        "  for i in range(1,numero):\n",
        "    if numero%i==0:\n",
        "      perf+=i\n",
        "    if perf==numero:\n",
        "      print(\"Es numero perfecto\")\n",
        "      return True\n",
        "    else:\n",
        "      print(\"No es numero perfecto\")\n",
        "numero=6\n",
        "perfecto(numero)"
      ],
      "metadata": {
        "id": "1K1a7PJ1rMs3"
      },
      "execution_count": null,
      "outputs": []
    },
    {
      "cell_type": "code",
      "source": [
        "def numeros():\n",
        "  a=int(input(\"ingresa un nümero\"))\n",
        "  b=int(input(\"ingresa un nümero\"))\n",
        "  c=int(input(\"ingresa un nümero\"))\n",
        "  d=int(input(\"ingresa un nümero\"))\n",
        "  perfect=[a,b,c,d]\n",
        "  perfect=[elemento for elemento in perfect if perfecto(elemento==True)]\n",
        "numeros()"
      ],
      "metadata": {
        "id": "4K-kBMx5rOLV"
      },
      "execution_count": null,
      "outputs": []
    },
    {
      "cell_type": "code",
      "source": [
        "lista=[2,3,6,4]\n",
        "perfect2=list(map(lambda elemento:perfecto(elemento)==True,lista))\n",
        "perfect2"
      ],
      "metadata": {
        "id": "8_eYeMq4rRYN"
      },
      "execution_count": null,
      "outputs": []
    },
    {
      "cell_type": "code",
      "source": [
        "#lambda daniel\n",
        "lambda_func = lambda x: x**2\n",
        "lambda_func(3)"
      ],
      "metadata": {
        "colab": {
          "base_uri": "https://localhost:8080/"
        },
        "id": "SgZiNPJ8rFRP",
        "outputId": "5277f62b-154c-43ac-9d43-94fd7e1fbb6c"
      },
      "execution_count": null,
      "outputs": [
        {
          "output_type": "execute_result",
          "data": {
            "text/plain": [
              "9"
            ]
          },
          "metadata": {},
          "execution_count": 50
        }
      ]
    },
    {
      "cell_type": "code",
      "source": [
        "#tradicional\n",
        "def squarel(num):\n",
        "  return num**2\n",
        "  print(squarel(5))"
      ],
      "metadata": {
        "id": "m4kiuWRGrne5"
      },
      "execution_count": null,
      "outputs": []
    },
    {
      "cell_type": "code",
      "source": [
        "#comprension\n",
        "L=[1,2,3,4]\n",
        "L2=[n**2 for n in L]\n",
        "print(L2)"
      ],
      "metadata": {
        "colab": {
          "base_uri": "https://localhost:8080/"
        },
        "id": "Vpgm0qSlr67e",
        "outputId": "f681b3fc-d3af-4e96-dcbc-26546d5397ba"
      },
      "execution_count": null,
      "outputs": [
        {
          "output_type": "stream",
          "name": "stdout",
          "text": [
            "[1, 4, 9, 16]\n"
          ]
        }
      ]
    },
    {
      "cell_type": "code",
      "source": [
        "#ANGIE \n",
        "nom1=[\"Sumuel\",\"juan david\",\"monchito\",\"pancho\",\"garrapacho\"]\n",
        "nom2=[\"Samuel\",\"pancho\",\"juan david\",\"monchito\",\"garrapacho\"]\n",
        "#comprencion\n",
        "common=[a for a in nom1 for b in nom2 if a == b]\n",
        "common"
      ],
      "metadata": {
        "colab": {
          "base_uri": "https://localhost:8080/"
        },
        "id": "w1YX1PuhsRDt",
        "outputId": "9b9499aa-8b73-46cf-aa74-5a9dff678719"
      },
      "execution_count": null,
      "outputs": [
        {
          "output_type": "execute_result",
          "data": {
            "text/plain": [
              "['juan david', 'monchito', 'pancho', 'garrapacho']"
            ]
          },
          "metadata": {},
          "execution_count": 62
        }
      ]
    },
    {
      "cell_type": "code",
      "source": [
        "#lambdam\n",
        "common1=lambda nom1,nom2:common\n",
        "print(common1(nom1,nom2))"
      ],
      "metadata": {
        "colab": {
          "base_uri": "https://localhost:8080/"
        },
        "id": "6zxi0p17un07",
        "outputId": "7ea88e85-441e-4061-9a3c-ac4e0e5d6b16"
      },
      "execution_count": null,
      "outputs": [
        {
          "output_type": "stream",
          "name": "stdout",
          "text": [
            "['juan david', 'monchito', 'pancho', 'garrapacho']\n"
          ]
        }
      ]
    },
    {
      "cell_type": "code",
      "source": [
        "#tradicional\n",
        "for a in nom1:\n",
        "    for b in nom2:\n",
        "        if a == b:\n",
        "            common.append(a)\n",
        "print(common)"
      ],
      "metadata": {
        "colab": {
          "base_uri": "https://localhost:8080/"
        },
        "id": "BDbNljo9u3Xt",
        "outputId": "f79c0440-96dc-442a-b89b-5e0f7105c2fc"
      },
      "execution_count": null,
      "outputs": [
        {
          "output_type": "stream",
          "name": "stdout",
          "text": [
            "['juan david', 'monchito', 'pancho', 'garrapacho', 'juan david', 'monchito', 'pancho', 'garrapacho']\n"
          ]
        }
      ]
    },
    {
      "cell_type": "code",
      "source": [
        "#VALENTINA tradicional\n",
        "def listaIMC(usuarios):\n",
        "  sis =[]\n",
        "  imc=[]\n",
        "  b=0\n",
        "  a2=0\n",
        "  for n in range (usuarios):\n",
        "    w=input(\"¿cual es tu nombre? \")\n",
        "    b=int(input(\"ingresa tu peso \"))\n",
        "    a2=int(input(\"ingresa tu altura \"))\n",
        "    sis.append((w,b/a2**2))\n",
        "    imc.append(b/a2**2)\n",
        "  return sis,imc\n",
        "\n",
        "user=int(input(\"¿cuantos usuarios hay? \"))\n",
        "\n",
        "sis,imc=listaIMC(user)"
      ],
      "metadata": {
        "colab": {
          "base_uri": "https://localhost:8080/"
        },
        "id": "hi41Qlchwk-k",
        "outputId": "a453d17f-0b85-4b12-b723-194adc4cad80"
      },
      "execution_count": null,
      "outputs": [
        {
          "name": "stdout",
          "output_type": "stream",
          "text": [
            "¿cuantos usuarios hay? 3\n",
            "¿cual es tu nombre? juan\n",
            "ingresa tu peso 239\n",
            "ingresa tu altura 24334\n",
            "¿cual es tu nombre? alfonso\n",
            "ingresa tu peso 9803475378243\n",
            "ingresa tu altura 4314679\n",
            "¿cual es tu nombre? juandivox\n",
            "ingresa tu peso 8232398\n",
            "ingresa tu altura 898387379\n"
          ]
        }
      ]
    },
    {
      "cell_type": "code",
      "source": [
        "#compresion\n",
        "sis=listaIMC(user)\n",
        "sis2=[n for n in imc if n>= 18.5]\n",
        "print(sis2)"
      ],
      "metadata": {
        "colab": {
          "base_uri": "https://localhost:8080/"
        },
        "id": "-WXCgVA4xw9T",
        "outputId": "2d9b93a4-69f3-4c88-8c6a-6e892b2a39fd"
      },
      "execution_count": null,
      "outputs": [
        {
          "output_type": "stream",
          "name": "stdout",
          "text": [
            "¿cual es tu nombre? juan\n",
            "ingresa tu peso 2929\n",
            "ingresa tu altura 1234\n",
            "¿cual es tu nombre? alfonso\n",
            "ingresa tu peso 3335425\n",
            "ingresa tu altura 342525\n",
            "¿cual es tu nombre? si\n",
            "ingresa tu peso 34253\n",
            "ingresa tu altura 2345234\n",
            "[]\n"
          ]
        }
      ]
    },
    {
      "cell_type": "code",
      "source": [
        "#lambda\n",
        "sis3=list(map(lambda x: \" peso insuficiente\" if x<18.5 else \"peso normal\" if (x>=18.5 and x<24.9) else \"sobrepeso\" if (x>24.9 and x<30) else \"obesidad\", imc))\n",
        "sis3"
      ],
      "metadata": {
        "colab": {
          "base_uri": "https://localhost:8080/"
        },
        "id": "dikXGYUGyRzq",
        "outputId": "46445d06-4bca-4d0f-a43c-5a7cd82b7824"
      },
      "execution_count": null,
      "outputs": [
        {
          "output_type": "execute_result",
          "data": {
            "text/plain": [
              "[' peso insuficiente', ' peso insuficiente', ' peso insuficiente']"
            ]
          },
          "metadata": {},
          "execution_count": 78
        }
      ]
    },
    {
      "cell_type": "code",
      "source": [
        "#LUIS MIGUEL \n",
        "#normal\n",
        "print(\"Ingrese su codigo\")\n",
        "caracter=input()\n",
        "if len(caracter)==9:\n",
        "  if caracter[0]=='u':\n",
        "    print(\"Eres un estudiante Unab\")\n",
        "  elif(caracter.startswith('a000')):\n",
        "    print(\"Eres un estudiante de los Andes\")\n",
        "  else:\n",
        "    if(int(caracter)>=1950):\n",
        "      print(\"Eres estudiante UIS\")\n",
        "\n",
        "else:\n",
        "  print(\"Su codifo no corresponde a ninguna universidad\")"
      ],
      "metadata": {
        "colab": {
          "base_uri": "https://localhost:8080/"
        },
        "id": "lS5dY8N50M3L",
        "outputId": "52796d42-4e46-437c-969b-c9c8adafe37d"
      },
      "execution_count": null,
      "outputs": [
        {
          "output_type": "stream",
          "name": "stdout",
          "text": [
            "Ingrese su codigo\n",
            "uuuuuuuuu\n",
            "Eres un estudiante Unab\n"
          ]
        }
      ]
    },
    {
      "cell_type": "code",
      "source": [
        "universidades=[\"unab\",\"uis\", \"andes\"]\n",
        "codigo=[\"U0123456\",\"198562\",\"a0005645\"]\n",
        "u=[cod for cod in codigo if(cod[0]==\"u\" and len(cod)==8)]\n",
        "print(u)"
      ],
      "metadata": {
        "colab": {
          "base_uri": "https://localhost:8080/"
        },
        "id": "D42Ut_kA3fsU",
        "outputId": "06b7692a-c696-48f8-b465-2c620376d712"
      },
      "execution_count": null,
      "outputs": [
        {
          "output_type": "stream",
          "name": "stdout",
          "text": [
            "[]\n"
          ]
        }
      ]
    },
    {
      "cell_type": "code",
      "source": [
        "y=list(map(lambda x:\"unab\" if (x[0]==\"U\" or x[0]==\"u\") else None, codigo))\n",
        "y"
      ],
      "metadata": {
        "colab": {
          "base_uri": "https://localhost:8080/"
        },
        "id": "RW6K5i0G3gTE",
        "outputId": "5ba74392-4b81-47e4-e062-873e53d95cd6"
      },
      "execution_count": null,
      "outputs": [
        {
          "output_type": "execute_result",
          "data": {
            "text/plain": [
              "['unab', None, None]"
            ]
          },
          "metadata": {},
          "execution_count": 86
        }
      ]
    },
    {
      "cell_type": "code",
      "source": [
        "#Cristian\n",
        "lista=[]\n",
        "x=0\n",
        "while x==0:\n",
        "  entrada= input(\"Ingrese un codigo\")\n",
        "  lista.append(entrada)\n",
        "  a=int(input(\"¿Deseas ingresar otro?, ingresa 0 si lo deseas, sino regresa 1\"))\n",
        "  if a==1:\n",
        "    x=x+1\n",
        "clasificacion=[a for a in lista if a.startswith(\"U000\") and len(a)=9]\n",
        "print(f\"Hay {len(clasificacion)} estudiante(s) de la Unab y sus codigo(1) son {clasificacion}\")\n",
        "clasificacion =[]"
      ],
      "metadata": {
        "id": "_mB98pB85ZQ8"
      },
      "execution_count": null,
      "outputs": []
    },
    {
      "cell_type": "code",
      "source": [
        "#armith\n",
        "#Tradicional\n",
        "num=[1,2,3,4,5,6,7,8,9,10]\n",
        "exp=int(input(\"Escriba su exponenete: \"))\n",
        "x=len(num)\n",
        "for n in range(1,(x)):\n",
        "  num[n]=num[n]**exp\n",
        "print(num)\n",
        "def imprimir(num):\n",
        "  s=1\n",
        "  for i in num:\n",
        "    print(f\"\\nEl resultado del elemento {s} de la lista es {i}\")\n",
        "    s+=1\n",
        "\n",
        "imprimir(num)"
      ],
      "metadata": {
        "id": "cxvV8Nwm5phD"
      },
      "execution_count": null,
      "outputs": []
    },
    {
      "cell_type": "code",
      "source": [
        "#Por comprension\n",
        "num=[1,2,3,4,5,6,7,8,9,10]\n",
        "exp=int(input(\"Escriba su exponenete: \"))\n",
        "numeros=[n**exp for n in num]\n",
        "numeros\n",
        "imprimir(numeros)"
      ],
      "metadata": {
        "id": "CXc4WAF25snb"
      },
      "execution_count": null,
      "outputs": []
    },
    {
      "cell_type": "code",
      "source": [
        "#Lambda\n",
        "num=list(range(1,11))\n",
        "exp=int(input(\"Escriba su exponenete: \"))\n",
        "numeros=lambda num,exp:(n**exp for n in num)\n",
        "numero1=numeros(num,exp)\n",
        "imprimir(list(numero1))"
      ],
      "metadata": {
        "id": "-_alsNMP5v-z"
      },
      "execution_count": null,
      "outputs": []
    },
    {
      "cell_type": "markdown",
      "source": [
        "Santiago carvajal"
      ],
      "metadata": {
        "id": "aeh1fRZkQL4n"
      }
    },
    {
      "cell_type": "code",
      "source": [
        "#comprension\n",
        "import random\n",
        "clientes = [\"Alex\",\"Bob\",\"Carol\",\"Dave\",\"Flow\",\"Katie\",\"Nate\"]\n",
        "diccionario_descuentos = {cliente:random.randint(1,100) for cliente in clientes}\n",
        "print(diccionario_descuentos)"
      ],
      "metadata": {
        "id": "_UgkI08jQOLe"
      },
      "execution_count": null,
      "outputs": []
    },
    {
      "cell_type": "code",
      "source": [
        "#Lambda\n",
        "import random\n",
        "clientes=  [\"Alex\",\"Bob\",\"Carol\",\"Dave\",\"Flow\",\"Katie\",\"Nate\"]\n",
        "diccionario_descuentos = (dict(map(lambda diccionario_descuentos:(diccionario_descuentos,random.randint(1,100)),clientes)))\n",
        "print(diccionario_descuentos)"
      ],
      "metadata": {
        "id": "hOVmBYUTQQQ-"
      },
      "execution_count": null,
      "outputs": []
    },
    {
      "cell_type": "markdown",
      "source": [
        "Juan david Vargas"
      ],
      "metadata": {
        "id": "7sTF_rzhQRnu"
      }
    },
    {
      "cell_type": "code",
      "source": [
        "Productos=[\"milk\",\"bread\",\"butter\",\"apple\",\"watermelon\",\"banana\",\"candy\",\"water\",\"ice cream\"]\n",
        "precio=[3,4,10,2,5,4.5,3.2,9,5,6.5]\n",
        "precio_productos ={Productos:precio for (Productos,precio) in zip(Productos,precio)}\n",
        "print(precio_productos)"
      ],
      "metadata": {
        "id": "b_Si7i80QS2-"
      },
      "execution_count": null,
      "outputs": []
    },
    {
      "cell_type": "code",
      "source": [
        "Descuentos={Productos: precio for (Productos,precio) in precio_productos.items() if }\n"
      ],
      "metadata": {
        "id": "1g5Tge1FQUGf"
      },
      "execution_count": null,
      "outputs": []
    },
    {
      "cell_type": "code",
      "source": [],
      "metadata": {
        "id": "bSlef5l_QVLH"
      },
      "execution_count": null,
      "outputs": []
    },
    {
      "cell_type": "markdown",
      "source": [
        "Jaime Rueda"
      ],
      "metadata": {
        "id": "SGdV124jQVaw"
      }
    },
    {
      "cell_type": "code",
      "source": [
        "productos={'papas':1300, 'jugos':1800,'helados': 2300, 'helados': 2300, 'dulces':800, 'leche':4200}\n",
        "operacion={x:y*1.19 for (x,y) in productos.items()}\n",
        "print(f\"El precio sin IVA de los productos es: {productos}\")\n",
        "print('🡅🡇'*60)\n",
        "print(f\"El precio con IVA de los productos es: {operacion}\")"
      ],
      "metadata": {
        "id": "CukDzg_yQXBf"
      },
      "execution_count": null,
      "outputs": []
    },
    {
      "cell_type": "code",
      "source": [
        "#lambda\n",
        "productos={'papas':1300, 'jugos':1800,'helados': 2300, 'helados': 2300, 'dulces':800, 'leche':4200}\n",
        "compra=['papas','jugos','helados', 'dulces','leche']\n",
        "IVA=dict(map(lambda producto:(producto,tienda[producto]) if producto in tienda else(producto,None),compra))\n",
        "IVA"
      ],
      "metadata": {
        "id": "WGzn2x8FQYTH"
      },
      "execution_count": null,
      "outputs": []
    },
    {
      "cell_type": "markdown",
      "source": [
        "Leandro"
      ],
      "metadata": {
        "id": "nDAgYl3UQamQ"
      }
    },
    {
      "cell_type": "code",
      "source": [
        "def check_temp(value):\n",
        "  if value >=70:\n",
        "    return \"hot\"\n",
        "  elif 69>=value >= 40:\n",
        "    return \"Warn\" \n",
        "  else:\n",
        "    return \"cold\"\n",
        "\n",
        "cities={\"New York\":32, \"Boston\": 75,\"Los Angeles\":100, \"Chicago\":50}\n",
        "des_cities={key: check_temp(value) for (key,value) in cities.items()}\n",
        "print(des_cities)"
      ],
      "metadata": {
        "id": "Cx39KmAwQegX"
      },
      "execution_count": null,
      "outputs": []
    },
    {
      "cell_type": "markdown",
      "source": [
        "Juan Zambrano"
      ],
      "metadata": {
        "id": "IuTNz-t-Qfzv"
      }
    },
    {
      "cell_type": "code",
      "source": [
        "def aleatorio(opciones):\n",
        "    opciones = list(opciones)\n",
        "    while True:\n",
        "        x = random.choice(opciones)\n",
        "        opciones.remove(x)\n",
        "        yield x"
      ],
      "metadata": {
        "id": "ZD_plB8uQhwX"
      },
      "execution_count": null,
      "outputs": []
    },
    {
      "cell_type": "code",
      "source": [
        "#Diccionarios por tradicional\n",
        "import random\n",
        "compañeros=[]\n",
        "print(\"Para no agregar mas nombres escribe '0'\")\n",
        "a=\"t\"\n",
        "while a!=\"0\":\n",
        "  a=(input(\"Ingresa el nombre de tu compañero: \"))\n",
        "  if a!=\"0\":\n",
        "    compañeros.append(a)\n",
        "cantidad=len(compañeros)\n",
        "contador=0\n",
        "numeros=[]\n",
        "while contador != (cantidad+1):\n",
        "  contador+=1\n",
        "  numeros.append(contador)\n",
        "alt = aleatorio(numeros)\n",
        "num_alt={}\n",
        "for s in range(cantidad):\n",
        "  num_alt[compañeros[s]]=next(alt)\n",
        "print(num_alt)"
      ],
      "metadata": {
        "id": "Ei1YtV3TQjEf"
      },
      "execution_count": null,
      "outputs": []
    },
    {
      "cell_type": "code",
      "source": [
        "#Diccionarios por comprensión\n",
        "import random\n",
        "compañeros=[]\n",
        "print(\"Para no agregar mas nombres escribe '0'\")\n",
        "a=\"t\"\n",
        "while a!=\"0\":\n",
        "  a=(input(\"Ingresa el nombre de tu compañero: \"))\n",
        "  if a!=\"0\":\n",
        "    compañeros.append(a)\n",
        "cantidad=len(compañeros)\n",
        "numeros=[num for num in range(1, (cantidad+1))]\n",
        "alt = aleatorio(numeros)\n",
        "num_alt = {orden:next(alt) for orden in compañeros }\n",
        "print(num_alt)"
      ],
      "metadata": {
        "id": "k4OlE57JQk25"
      },
      "execution_count": null,
      "outputs": []
    },
    {
      "cell_type": "code",
      "source": [
        "#Diccionarios por lambda\n",
        "import random\n",
        "compañeros=[]\n",
        "print(\"Para no agregar mas nombres escribe '0'\")\n",
        "a=\"t\"\n",
        "while a!=\"0\":\n",
        "  a=(input(\"Ingresa el nombre de tu compañero: \"))\n",
        "  if a!=\"0\":\n",
        "    compañeros.append(a)\n",
        "cantidad=len(compañeros)\n",
        "valores=[ n for n in range (1, cantidad+1)]\n",
        "numeros=list(map(lambda num: num, valores))\n",
        "alt = aleatorio(numeros)\n",
        "num_alt = dict (map(lambda orden: (orden, next(alt) ), compañeros))\n",
        "print(num_alt)"
      ],
      "metadata": {
        "id": "3rfW-soNQmWJ"
      },
      "execution_count": null,
      "outputs": []
    },
    {
      "cell_type": "markdown",
      "source": [
        "Daniel rodriguez"
      ],
      "metadata": {
        "id": "DQwRkrFGQqIZ"
      }
    },
    {
      "cell_type": "code",
      "source": [
        "#por comprension\n",
        "import random\n",
        "diccionario=[\"cliente 1\",\"cliente 2\",\"cliente 3\",\"cliente 4\",\"cliente 5\"]\n",
        "tienda={diccionario: random.randint(1000,100000) for diccionario in diccionario}\n",
        "tienda_sort=sorted(tienda.values())\n",
        "mayor=tienda_sort[-1]\n",
        "mayor1=tienda_sort[4::]\n",
        "cliente=list(tienda.values()).index(mayor)\n",
        "if cliente==0:\n",
        "  a=\"cliente 1\"\n",
        "if cliente==1:\n",
        "  a=\"cliente 2\"\n",
        "if cliente==2:\n",
        "  a=\"cliente 3\"\n",
        "if cliente==3:\n",
        "  a=\"cliente 4\"\n",
        "if cliente==4:\n",
        "  a=\"cliente 5\"\n",
        "oferta={producto*0.8 for producto in mayor1}\n",
        "print(f\"El {a} tuvo la mayor compra con un valor de: {mayor}, por lo tanto obtuvo un descuento del 20%, su total fue: {oferta}\")"
      ],
      "metadata": {
        "colab": {
          "base_uri": "https://localhost:8080/"
        },
        "id": "9OK5DU8zS5bB",
        "outputId": "347555f5-cc38-46fc-88bb-6590e1c2a371"
      },
      "execution_count": 6,
      "outputs": [
        {
          "output_type": "stream",
          "name": "stdout",
          "text": [
            "El cliente 1 tuvo la mayor compra con un valor de: 99360, por lo tanto obtuvo un descuento del 20%, su total fue: {79488.0}\n"
          ]
        }
      ]
    },
    {
      "cell_type": "code",
      "source": [
        "#por funcion\n",
        "import random\n",
        "diccionario=[\"cliente 1\",\"cliente 2\",\"cliente 3\",\"cliente 4\",\"cliente 5\"]\n",
        "def cosita (a):\n",
        "  tienda={diccionario: random.randint(1000,100000) for diccionario in diccionario}\n",
        "  tienda_sort=sorted(tienda.values())\n",
        "  mayor=tienda_sort[-1]\n",
        "  mayor1=tienda_sort[4::]\n",
        "  cliente=list(tienda.values()).index(mayor)\n",
        "  if cliente==0:\n",
        "   a=\"cliente 1\"\n",
        "  if cliente==1:\n",
        "   a=\"cliente 2\"\n",
        "  if cliente==2:\n",
        "   a=\"cliente 3\"\n",
        "  if cliente==3:\n",
        "   a=\"cliente 4\"\n",
        "  if cliente==4:\n",
        "   a=\"cliente 5\"\n",
        "  oferta={producto*0.8 for producto in mayor1}\n",
        "  print(f\"El {a} tuvo la mayor compra con un valor de: {mayor}, por lo tanto obtuvo un descuento del 20%, su total fue: {oferta}\")\n",
        "\n",
        "cosita(diccionario)"
      ],
      "metadata": {
        "colab": {
          "base_uri": "https://localhost:8080/"
        },
        "id": "B5gULNEcUpIl",
        "outputId": "b62770f9-4472-4527-a46d-c7da7297dfe9"
      },
      "execution_count": 8,
      "outputs": [
        {
          "output_type": "stream",
          "name": "stdout",
          "text": [
            "El cliente 1 tuvo la mayor compra con un valor de: 82225, por lo tanto obtuvo un descuento del 20%, su total fue: {65780.0}\n"
          ]
        }
      ]
    },
    {
      "cell_type": "code",
      "source": [
        "#por lambda\n",
        "import random\n",
        "diccionario=[\"cliente 1\",\"cliente 2\",\"cliente 3\",\"cliente 4\",\"cliente 5\"]\n",
        "tienda=(dict(map(lambda tienda:(tienda,random.randint(1000,100000)) , diccionario)))\n",
        "tienda_sort=sorted(tienda.values())\n",
        "mayor=tienda_sort[-1]\n",
        "mayor1=tienda_sort[4::]\n",
        "cliente=list(tienda.values()).index(mayor)\n",
        "cositas=max(tienda,key=tienda.get)\n",
        "print(f\"El {a} tuvo la mayor compra con un valor de: {mayor}, por lo tanto obtuvo un descuento del 20%, su total fue: {oferta}\")"
      ],
      "metadata": {
        "colab": {
          "base_uri": "https://localhost:8080/"
        },
        "id": "Zd_GOWB8VJVe",
        "outputId": "7d6394ad-f06a-4e0c-8c48-99772533bccf"
      },
      "execution_count": 12,
      "outputs": [
        {
          "output_type": "stream",
          "name": "stdout",
          "text": [
            "El cliente 1 tuvo la mayor compra con un valor de: 95255, por lo tanto obtuvo un descuento del 20%, su total fue: {79488.0}\n"
          ]
        }
      ]
    },
    {
      "cell_type": "markdown",
      "source": [
        "Adrian Parra"
      ],
      "metadata": {
        "id": "TfWMnBTEWSpe"
      }
    },
    {
      "cell_type": "code",
      "source": [
        "#comprension\n",
        "nombre=str(input(\"ingrese el nombre del atleta: \"))\n",
        "N=int(input(\"ingrese el numero de saltos: \"))\n",
        "\n",
        "def fun(nombre, a):\n",
        "  lista=[]\n",
        "  for i in range (0,a):\n",
        "    name=str(f\"salto{i+1}\")\n",
        "    lista.append(name)\n",
        "\n",
        "print(\"----------------------\")\n",
        "print(\"la altura de los saltos se mide en metros\")\n",
        "dic_lista={lista: float(input(f\"ingrese la altura del salto: \")) for lista in lista}\n",
        "distancia=sorted(dic_lista.value())\n",
        "mayor=distancia[-1]\n",
        "print(\"----------------------\")\n",
        "print(f\"atleta {nombre}:\")\n",
        "print(dic_lista)\n",
        "sum=0\n",
        "for i in dic_lista.values():\n",
        "  sum+-1\n",
        "prom=sum/a\n",
        "redprom=round(prom,2)\n",
        "print(f\"El promedio de los {a} saltos es de {redprom} metros, teniendo que el mayor fue aquel con {mayor} metros de altura\")\n",
        "\n",
        "fun(nombre, N)\n"
      ],
      "metadata": {
        "id": "17nTcLkkWXvN"
      },
      "execution_count": null,
      "outputs": []
    },
    {
      "cell_type": "code",
      "source": [
        "nombre=str(input(\"Ingrese el nombre del atleta: \"))\n",
        "N=int(input(\"Ingres el numero de saltos: \"))\n",
        "\n",
        "\n",
        "def fun(nombre,a):\n",
        "  lista=[]\n",
        "  for i in range(0,a):\n",
        "    name=str(f\"Salto {i+1}\")\n",
        "    lista.append(name)\n",
        "\n",
        "  print(\"--------------\")\n",
        "  print(\"La altura de los saltos se mide en metros\")\n",
        "  dic_listas=(dict(map(lambda x:(x, float(input(f\"Ingrese la altura del salto:\"))), lista)))\n",
        "  distancia=sorted(dic_listas.values())\n",
        "  mayor=distancia[-1]\n",
        "  print(\"\")\n",
        "  print(f\"Atleta {nombre}:\")\n",
        "  print(dic_listas)\n",
        "\n",
        "  sum=reduce(lambda distancia,distancia1:distancia+distancia1, distancia)\n",
        "  \n",
        "  prom=float(sum)/a\n",
        "  redprom=round(prom,2)\n",
        "  print(f\"EL promedio de los {a} saltos es de {redprom} metros, teniendo que el mayor fue aquel con {mayor} metros de altura \")\n",
        "\n",
        "fun(nombre,N)"
      ],
      "metadata": {
        "id": "TfTdA5VVY6qU"
      },
      "execution_count": null,
      "outputs": []
    },
    {
      "cell_type": "markdown",
      "source": [
        "Santiago Galindo"
      ],
      "metadata": {
        "id": "MUBvwtbWpoXi"
      }
    },
    {
      "cell_type": "code",
      "source": [
        "#Tradicional\n",
        "import random\n",
        "cs =[\"Andru\",\"David\",\"Sebas\"]\n",
        "CS =[\"Andres\",\"Flowey\",\"Cata\",\"Karen\"]\n",
        "DD= {cs:random.randint(1,50) for cs in cs}\n",
        "DD1 = {CS:random.randint(1,50) for CS in CS}\n",
        "print(DD,DD1)"
      ],
      "metadata": {
        "id": "aQ8qit0Gpk_i"
      },
      "execution_count": null,
      "outputs": []
    },
    {
      "cell_type": "code",
      "source": [
        "#def\n",
        "import random\n",
        "def A():\n",
        "  cs =[\"Andru\",\"David\",\"Sebas\"]\n",
        "  CS =[\"Andres\",\"Flowey\",\"Cata\",\"Karen\"]\n",
        "  DD= {cs:random.randint(1,50) for cs in cs}\n",
        "  DD1 = {CS:random.randint(1,50) for CS in CS}\n",
        "  return DD,DD1\n",
        "A()"
      ],
      "metadata": {
        "id": "-atlu3XGprrS"
      },
      "execution_count": null,
      "outputs": []
    },
    {
      "cell_type": "code",
      "source": [
        "#lambda\n",
        "import random\n",
        "cs =[\"Andru\",\"David\",\"Sebas\"]\n",
        "CS =[\"Andres\",\"Flowey\",\"Cata\",\"Karen\"]\n",
        "DD= dict(map(lambda DD:(DD,random.randint(1,50)),cs))\n",
        "DD1= dict(map(lambda DD1:(DD1,random.randint(1,50)),CS))\n",
        "print(DD,DD1)"
      ],
      "metadata": {
        "id": "_OVleZpfpuNi"
      },
      "execution_count": null,
      "outputs": []
    },
    {
      "cell_type": "markdown",
      "source": [
        "Juan David Arenales"
      ],
      "metadata": {
        "id": "PEVw5QSRqNkB"
      }
    },
    {
      "cell_type": "code",
      "source": [
        "#Lista de contactos\n",
        "#Comprension\n",
        "import pandas as pd\n",
        "import random\n",
        "def menu(C,E,N,n):\n",
        "  b=int(input(\"Menú:\\n1)Añadir contacto\\n2)Eliminar contacto\\n3)Lista de contacto\\n4)Darle emojis aleatorios\\n\"))\n",
        "  if b==1: #Añade contactos\n",
        "    d=input(\"Nombre: \") #Ingresa el nombre\n",
        "    f=d in N #Si el nombre ya esta en los contactos f es True, sino es false\n",
        "    while f==True:\n",
        "      d=input(\"Ya existe un contacto con ese nombre, escoja otro: \")\n",
        "      f=d in C[\"Nombre\"]\n",
        "    e=input(\"Número: \") #Ingresa el numero\n",
        "    N.append(d) #Añade el nombre a la lista N\n",
        "    n.append(e) #Añade el numero a la lista n\n",
        "  if b==2:# Elimina contactos\n",
        "    o=int(input(\"1)Eliminar por nombre\\n2)Eliminar por número\\n\")) #Da dos opciones para eliminar un contacto\n",
        "    if o==1: #Eliminar por nombre\n",
        "      d=input(\"Nombre: \") #Ingresa el nombre\n",
        "      f=d in N #Si el nombre ya esta en los contactos f es True, sino es false\n",
        "      if f==False:#Si ese contacto no existe en la lista\n",
        "        print(\"No existe un contacto con ese nombre\")\n",
        "      else:\n",
        "        i=N.index(d) #Busca la posición del Nombre\n",
        "        N.pop(i) #Elimina el nombre en esa posicion\n",
        "        n.pop(i) #Elimina el número en esa posicion\n",
        "    if o==2: #Eliminar por número\n",
        "      e=input(\"Número: \") #Ingresa el número\n",
        "      h= e in N #Si el numero ya esta en los contactos h es True, sino es false\n",
        "      if h==False: #Si ese contacto no existe en la lista\n",
        "        print(\"No existe un contacto con ese número\")\n",
        "      else:\n",
        "        i=n.index(e) #Busca la posición del Nombre\n",
        "        N.pop(i) #Elimina el nombre en esa posicion\n",
        "        n.pop(i) #Elimina el número en esa posicion\n",
        "  if b==3:#Imprime la lista de contactos\n",
        "    C={N[z]: n[z] for z in range(len(N)) }\n",
        "    print(C)\n",
        "  if b==4:#Le da emojis aleatorios a los contactos \n",
        "    C={N[z]: (n[z],E[random.randint(0,3)]) for z in range(len(N)) }\n",
        "    print(pd.DataFrame.from_dict(C)) #La imprime bonito con pandas\n",
        "\n",
        "  return C\n",
        "    \n",
        "C={}\n",
        "E=[\"B)\",\":)\",\"<3\",\">:v\"]#Emojis\n",
        "N=[\"juan\",\"Kyle\"]#Nombres default\n",
        "n=[\"453\",\"64782\"]#Números default\n",
        "\n",
        "a=True\n",
        "while a==True:\n",
        "  menu(C,E,N,n)\n"
      ],
      "metadata": {
        "id": "FuV1EVrFqN-6"
      },
      "execution_count": null,
      "outputs": []
    },
    {
      "cell_type": "code",
      "source": [
        "#Lista de contactos\n",
        "#Lambda\n",
        "import pandas as pd\n",
        "import random\n",
        "def menu(C,E,N,n):\n",
        "  b=int(input(\"Menú:\\n1)Añadir contacto\\n2)Eliminar contacto\\n3)Lista de contacto\\n4)Darle emojis aleatorios\\n\"))\n",
        "  if b==1:\n",
        "    d=input(\"Nombre: \")\n",
        "    f=d in N\n",
        "    while f==True:\n",
        "      d=input(\"Ya existe un contacto con ese nombre, escoja otro: \")\n",
        "      f=d in C[\"Nombre\"]\n",
        "    e=input(\"Número: \")\n",
        "    N.append(d)\n",
        "    n.append(e)\n",
        "  if b==2:\n",
        "    o=int(input(\"1)Eliminar por nombre\\n2)Eliminar por número\\n\"))\n",
        "    if o==1:\n",
        "      d=input(\"Nombre: \")\n",
        "      f=d in N\n",
        "      if f==False:\n",
        "        print(\"No existe un contacto con ese nombre\")\n",
        "      else:\n",
        "        i=N.index(d)\n",
        "        N.pop(i)\n",
        "        n.pop(i)\n",
        "    if o==2:\n",
        "      e=input(\"Número: \")\n",
        "      h= e in N\n",
        "      if h==False:\n",
        "        print(\"No existe un contacto con ese número\")\n",
        "      else:\n",
        "        i=n.index(e)\n",
        "        N.pop(i)\n",
        "        n.pop(i)\n",
        "  if b==3:\n",
        "    C=dict(map(lambda Nombre:(Nombre,n[N.index(Nombre)]),N)) #Lambda  \n",
        "    print(C)\n",
        "  if b==4:\n",
        "    C=dict(map(lambda Nombre:(Nombre,(n[N.index(Nombre)],E[random.randint(0,3)])),N)) #Lambda\n",
        "    print(pd.DataFrame.from_dict(C))\n",
        "    \n",
        "  return C\n",
        "    \n",
        "C={}\n",
        "E=[\"B)\",\":)\",\"<3\",\">:v\"]\n",
        "N=[\"juan\",\"Kyle\"]\n",
        "n=[\"453\",\"64782\"]\n",
        "\n",
        "a=True\n",
        "while a==True:\n",
        "  menu(C,E,N,n)"
      ],
      "metadata": {
        "id": "hKLyl0o9qP65"
      },
      "execution_count": null,
      "outputs": []
    },
    {
      "cell_type": "code",
      "source": [
        "#Lista de contactos\n",
        "#Noob\n",
        "import pandas as pd\n",
        "import random\n",
        "def menu(C,E,N,n):\n",
        "  b=int(input(\"Menú:\\n1)Añadir contacto\\n2)Eliminar contacto\\n3)Lista de contacto\\n4)Darle emojis aleatorios\\n\"))\n",
        "  if b==1:\n",
        "    d=input(\"Nombre: \")\n",
        "    f=d in N\n",
        "    while f==True:\n",
        "      d=input(\"Ya existe un contacto con ese nombre, escoja otro: \")\n",
        "      f=d in C[\"Nombre\"]\n",
        "    e=input(\"Número: \")\n",
        "    N.append(d)\n",
        "    n.append(e)\n",
        "  if b==2:\n",
        "    o=int(input(\"1)Eliminar por nombre\\n2)Eliminar por número\\n\"))\n",
        "    if o==1:\n",
        "      d=input(\"Nombre: \")\n",
        "      f=d in N\n",
        "      if f==False:\n",
        "        print(\"No existe un contacto con ese nombre\")\n",
        "      else:\n",
        "        i=N.index(d)\n",
        "        N.pop(i)\n",
        "        n.pop(i)\n",
        "    if o==2:\n",
        "      e=input(\"Número: \")\n",
        "      h= e in N\n",
        "      if h==False:\n",
        "        print(\"No existe un contacto con ese número\")\n",
        "      else:\n",
        "        i=n.index(e)\n",
        "        N.pop(i)\n",
        "        n.pop(i)\n",
        "  if b==3:\n",
        "    l=len(N)\n",
        "    for a in range(l): #Tradicional\n",
        "      C[N[a]]=n[a] \n",
        "    print(C)\n",
        "  if b==4:\n",
        "    l=len(N)\n",
        "    for a in range(l):#Tradicional\n",
        "      C[N[a]]=(n[a],E[random.randint(0,3)])\n",
        "    print(pd.DataFrame.from_dict(C))\n",
        "\n",
        "  return C\n",
        "C={}\n",
        "E=[\"B)\",\":)\",\"<3\",\">:v\"]\n",
        "N=[\"juan\",\"Kyle\"]\n",
        "n=[\"453\",\"64782\"]\n",
        "\n",
        "a=True\n",
        "while a==True:\n",
        "  menu(C,E,N,n)"
      ],
      "metadata": {
        "id": "tGmEsxX1qT2x"
      },
      "execution_count": null,
      "outputs": []
    }
  ]
}